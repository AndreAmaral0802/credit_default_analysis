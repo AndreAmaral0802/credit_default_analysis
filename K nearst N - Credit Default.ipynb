{
 "cells": [
  {
   "cell_type": "markdown",
   "id": "96d3b61b",
   "metadata": {},
   "source": [
    "# Credit Default Analysis"
   ]
  },
  {
   "cell_type": "code",
   "execution_count": 1,
   "id": "ef625b60",
   "metadata": {},
   "outputs": [],
   "source": [
    "### Download the dataset and the first library\n",
    "\n",
    "import pandas as pd"
   ]
  },
  {
   "cell_type": "code",
   "execution_count": 2,
   "id": "e7baab4c",
   "metadata": {},
   "outputs": [
    {
     "data": {
      "text/html": [
       "<div>\n",
       "<style scoped>\n",
       "    .dataframe tbody tr th:only-of-type {\n",
       "        vertical-align: middle;\n",
       "    }\n",
       "\n",
       "    .dataframe tbody tr th {\n",
       "        vertical-align: top;\n",
       "    }\n",
       "\n",
       "    .dataframe thead th {\n",
       "        text-align: right;\n",
       "    }\n",
       "</style>\n",
       "<table border=\"1\" class=\"dataframe\">\n",
       "  <thead>\n",
       "    <tr style=\"text-align: right;\">\n",
       "      <th></th>\n",
       "      <th>Index</th>\n",
       "      <th>Employed</th>\n",
       "      <th>Bank Balance</th>\n",
       "      <th>Annual Salary</th>\n",
       "      <th>Defaulted?</th>\n",
       "    </tr>\n",
       "  </thead>\n",
       "  <tbody>\n",
       "    <tr>\n",
       "      <th>0</th>\n",
       "      <td>1</td>\n",
       "      <td>1</td>\n",
       "      <td>8754.36</td>\n",
       "      <td>532339.56</td>\n",
       "      <td>0</td>\n",
       "    </tr>\n",
       "    <tr>\n",
       "      <th>1</th>\n",
       "      <td>2</td>\n",
       "      <td>0</td>\n",
       "      <td>9806.16</td>\n",
       "      <td>145273.56</td>\n",
       "      <td>0</td>\n",
       "    </tr>\n",
       "    <tr>\n",
       "      <th>2</th>\n",
       "      <td>3</td>\n",
       "      <td>1</td>\n",
       "      <td>12882.60</td>\n",
       "      <td>381205.68</td>\n",
       "      <td>0</td>\n",
       "    </tr>\n",
       "    <tr>\n",
       "      <th>3</th>\n",
       "      <td>4</td>\n",
       "      <td>1</td>\n",
       "      <td>6351.00</td>\n",
       "      <td>428453.88</td>\n",
       "      <td>0</td>\n",
       "    </tr>\n",
       "    <tr>\n",
       "      <th>4</th>\n",
       "      <td>5</td>\n",
       "      <td>1</td>\n",
       "      <td>9427.92</td>\n",
       "      <td>461562.00</td>\n",
       "      <td>0</td>\n",
       "    </tr>\n",
       "    <tr>\n",
       "      <th>...</th>\n",
       "      <td>...</td>\n",
       "      <td>...</td>\n",
       "      <td>...</td>\n",
       "      <td>...</td>\n",
       "      <td>...</td>\n",
       "    </tr>\n",
       "    <tr>\n",
       "      <th>9995</th>\n",
       "      <td>9996</td>\n",
       "      <td>1</td>\n",
       "      <td>8538.72</td>\n",
       "      <td>635908.56</td>\n",
       "      <td>0</td>\n",
       "    </tr>\n",
       "    <tr>\n",
       "      <th>9996</th>\n",
       "      <td>9997</td>\n",
       "      <td>1</td>\n",
       "      <td>9095.52</td>\n",
       "      <td>235928.64</td>\n",
       "      <td>0</td>\n",
       "    </tr>\n",
       "    <tr>\n",
       "      <th>9997</th>\n",
       "      <td>9998</td>\n",
       "      <td>1</td>\n",
       "      <td>10144.92</td>\n",
       "      <td>703633.92</td>\n",
       "      <td>0</td>\n",
       "    </tr>\n",
       "    <tr>\n",
       "      <th>9998</th>\n",
       "      <td>9999</td>\n",
       "      <td>1</td>\n",
       "      <td>18828.12</td>\n",
       "      <td>440029.32</td>\n",
       "      <td>0</td>\n",
       "    </tr>\n",
       "    <tr>\n",
       "      <th>9999</th>\n",
       "      <td>10000</td>\n",
       "      <td>0</td>\n",
       "      <td>2411.04</td>\n",
       "      <td>202355.40</td>\n",
       "      <td>0</td>\n",
       "    </tr>\n",
       "  </tbody>\n",
       "</table>\n",
       "<p>10000 rows × 5 columns</p>\n",
       "</div>"
      ],
      "text/plain": [
       "      Index  Employed  Bank Balance  Annual Salary  Defaulted?\n",
       "0         1         1       8754.36      532339.56           0\n",
       "1         2         0       9806.16      145273.56           0\n",
       "2         3         1      12882.60      381205.68           0\n",
       "3         4         1       6351.00      428453.88           0\n",
       "4         5         1       9427.92      461562.00           0\n",
       "...     ...       ...           ...            ...         ...\n",
       "9995   9996         1       8538.72      635908.56           0\n",
       "9996   9997         1       9095.52      235928.64           0\n",
       "9997   9998         1      10144.92      703633.92           0\n",
       "9998   9999         1      18828.12      440029.32           0\n",
       "9999  10000         0       2411.04      202355.40           0\n",
       "\n",
       "[10000 rows x 5 columns]"
      ]
     },
     "execution_count": 2,
     "metadata": {},
     "output_type": "execute_result"
    }
   ],
   "source": [
    "data = pd.read_csv('C:/Andre files/Credit Default/archive/Default_Fin.csv')\n",
    "data"
   ]
  },
  {
   "cell_type": "code",
   "execution_count": 3,
   "id": "a682dc33",
   "metadata": {},
   "outputs": [],
   "source": [
    "# 5 columns and 10.000 rows"
   ]
  },
  {
   "cell_type": "code",
   "execution_count": 4,
   "id": "cb6dec5f",
   "metadata": {},
   "outputs": [
    {
     "data": {
      "text/plain": [
       "Index(['Index', 'Employed', 'Bank Balance', 'Annual Salary', 'Defaulted?'], dtype='object')"
      ]
     },
     "execution_count": 4,
     "metadata": {},
     "output_type": "execute_result"
    }
   ],
   "source": [
    "data.columns"
   ]
  },
  {
   "cell_type": "code",
   "execution_count": 5,
   "id": "52c88c74",
   "metadata": {},
   "outputs": [
    {
     "data": {
      "text/html": [
       "<div>\n",
       "<style scoped>\n",
       "    .dataframe tbody tr th:only-of-type {\n",
       "        vertical-align: middle;\n",
       "    }\n",
       "\n",
       "    .dataframe tbody tr th {\n",
       "        vertical-align: top;\n",
       "    }\n",
       "\n",
       "    .dataframe thead th {\n",
       "        text-align: right;\n",
       "    }\n",
       "</style>\n",
       "<table border=\"1\" class=\"dataframe\">\n",
       "  <thead>\n",
       "    <tr style=\"text-align: right;\">\n",
       "      <th></th>\n",
       "      <th>Index</th>\n",
       "      <th>Employed</th>\n",
       "      <th>Bank Balance</th>\n",
       "      <th>Annual Salary</th>\n",
       "      <th>Defaulted?</th>\n",
       "    </tr>\n",
       "  </thead>\n",
       "  <tbody>\n",
       "    <tr>\n",
       "      <th>count</th>\n",
       "      <td>10000.00000</td>\n",
       "      <td>10000.000000</td>\n",
       "      <td>10000.000000</td>\n",
       "      <td>10000.000000</td>\n",
       "      <td>10000.000000</td>\n",
       "    </tr>\n",
       "    <tr>\n",
       "      <th>mean</th>\n",
       "      <td>5000.50000</td>\n",
       "      <td>0.705600</td>\n",
       "      <td>10024.498524</td>\n",
       "      <td>402203.782224</td>\n",
       "      <td>0.033300</td>\n",
       "    </tr>\n",
       "    <tr>\n",
       "      <th>std</th>\n",
       "      <td>2886.89568</td>\n",
       "      <td>0.455795</td>\n",
       "      <td>5804.579486</td>\n",
       "      <td>160039.674988</td>\n",
       "      <td>0.179428</td>\n",
       "    </tr>\n",
       "    <tr>\n",
       "      <th>min</th>\n",
       "      <td>1.00000</td>\n",
       "      <td>0.000000</td>\n",
       "      <td>0.000000</td>\n",
       "      <td>9263.640000</td>\n",
       "      <td>0.000000</td>\n",
       "    </tr>\n",
       "    <tr>\n",
       "      <th>25%</th>\n",
       "      <td>2500.75000</td>\n",
       "      <td>0.000000</td>\n",
       "      <td>5780.790000</td>\n",
       "      <td>256085.520000</td>\n",
       "      <td>0.000000</td>\n",
       "    </tr>\n",
       "    <tr>\n",
       "      <th>50%</th>\n",
       "      <td>5000.50000</td>\n",
       "      <td>1.000000</td>\n",
       "      <td>9883.620000</td>\n",
       "      <td>414631.740000</td>\n",
       "      <td>0.000000</td>\n",
       "    </tr>\n",
       "    <tr>\n",
       "      <th>75%</th>\n",
       "      <td>7500.25000</td>\n",
       "      <td>1.000000</td>\n",
       "      <td>13995.660000</td>\n",
       "      <td>525692.760000</td>\n",
       "      <td>0.000000</td>\n",
       "    </tr>\n",
       "    <tr>\n",
       "      <th>max</th>\n",
       "      <td>10000.00000</td>\n",
       "      <td>1.000000</td>\n",
       "      <td>31851.840000</td>\n",
       "      <td>882650.760000</td>\n",
       "      <td>1.000000</td>\n",
       "    </tr>\n",
       "  </tbody>\n",
       "</table>\n",
       "</div>"
      ],
      "text/plain": [
       "             Index      Employed  Bank Balance  Annual Salary    Defaulted?\n",
       "count  10000.00000  10000.000000  10000.000000   10000.000000  10000.000000\n",
       "mean    5000.50000      0.705600  10024.498524  402203.782224      0.033300\n",
       "std     2886.89568      0.455795   5804.579486  160039.674988      0.179428\n",
       "min        1.00000      0.000000      0.000000    9263.640000      0.000000\n",
       "25%     2500.75000      0.000000   5780.790000  256085.520000      0.000000\n",
       "50%     5000.50000      1.000000   9883.620000  414631.740000      0.000000\n",
       "75%     7500.25000      1.000000  13995.660000  525692.760000      0.000000\n",
       "max    10000.00000      1.000000  31851.840000  882650.760000      1.000000"
      ]
     },
     "execution_count": 5,
     "metadata": {},
     "output_type": "execute_result"
    }
   ],
   "source": [
    "data.describe()"
   ]
  },
  {
   "cell_type": "code",
   "execution_count": 6,
   "id": "228dbe7d",
   "metadata": {},
   "outputs": [
    {
     "name": "stdout",
     "output_type": "stream",
     "text": [
      "<class 'pandas.core.frame.DataFrame'>\n",
      "RangeIndex: 10000 entries, 0 to 9999\n",
      "Data columns (total 5 columns):\n",
      " #   Column         Non-Null Count  Dtype  \n",
      "---  ------         --------------  -----  \n",
      " 0   Index          10000 non-null  int64  \n",
      " 1   Employed       10000 non-null  int64  \n",
      " 2   Bank Balance   10000 non-null  float64\n",
      " 3   Annual Salary  10000 non-null  float64\n",
      " 4   Defaulted?     10000 non-null  int64  \n",
      "dtypes: float64(2), int64(3)\n",
      "memory usage: 390.8 KB\n"
     ]
    }
   ],
   "source": [
    "data.info()"
   ]
  },
  {
   "cell_type": "code",
   "execution_count": 7,
   "id": "e2701700",
   "metadata": {},
   "outputs": [
    {
     "data": {
      "text/plain": [
       "Index            0\n",
       "Employed         0\n",
       "Bank Balance     0\n",
       "Annual Salary    0\n",
       "Defaulted?       0\n",
       "dtype: int64"
      ]
     },
     "execution_count": 7,
     "metadata": {},
     "output_type": "execute_result"
    }
   ],
   "source": [
    "# Finding missing values\n",
    "data.isna().sum().sort_values(ascending=False) #there are no missing values"
   ]
  },
  {
   "cell_type": "markdown",
   "id": "fc49e258",
   "metadata": {},
   "source": [
    "## Explanatory Analysis per variable\n",
    "\n",
    "### Descriptive Stats "
   ]
  },
  {
   "cell_type": "markdown",
   "id": "531d1b96",
   "metadata": {},
   "source": [
    "### Employed"
   ]
  },
  {
   "cell_type": "code",
   "execution_count": 8,
   "id": "4f69ad87",
   "metadata": {},
   "outputs": [
    {
     "data": {
      "text/plain": [
       "0       1\n",
       "1       0\n",
       "2       1\n",
       "3       1\n",
       "4       1\n",
       "       ..\n",
       "9995    1\n",
       "9996    1\n",
       "9997    1\n",
       "9998    1\n",
       "9999    0\n",
       "Name: Employed, Length: 10000, dtype: int64"
      ]
     },
     "execution_count": 8,
     "metadata": {},
     "output_type": "execute_result"
    }
   ],
   "source": [
    "data.Employed"
   ]
  },
  {
   "cell_type": "code",
   "execution_count": 9,
   "id": "b4ea3af0",
   "metadata": {},
   "outputs": [
    {
     "data": {
      "text/plain": [
       "2"
      ]
     },
     "execution_count": 9,
     "metadata": {},
     "output_type": "execute_result"
    }
   ],
   "source": [
    "Emp = data.Employed.unique()\n",
    "len(Emp) # it is a binary variable "
   ]
  },
  {
   "cell_type": "code",
   "execution_count": 10,
   "id": "e4e9a0ca",
   "metadata": {},
   "outputs": [
    {
     "data": {
      "text/plain": [
       "1    7056\n",
       "0    2944\n",
       "Name: Employed, dtype: int64"
      ]
     },
     "execution_count": 10,
     "metadata": {},
     "output_type": "execute_result"
    }
   ],
   "source": [
    "# NUmber of employed and Unemployed people \n",
    "\n",
    "Emp_= data.Employed.value_counts()\n",
    "Emp_"
   ]
  },
  {
   "cell_type": "code",
   "execution_count": 11,
   "id": "95633dd7",
   "metadata": {},
   "outputs": [
    {
     "data": {
      "text/plain": [
       "<AxesSubplot:>"
      ]
     },
     "execution_count": 11,
     "metadata": {},
     "output_type": "execute_result"
    },
    {
     "data": {
      "image/png": "[encoded data removed]",
      "text/plain": [
       "<Figure size 432x288 with 1 Axes>"
      ]
     },
     "metadata": {
      "needs_background": "light"
     },
     "output_type": "display_data"
    }
   ],
   "source": [
    "# let's plot this \n",
    "Emp_.plot(kind='barh')"
   ]
  },
  {
   "cell_type": "code",
   "execution_count": 12,
   "id": "6d55efed",
   "metadata": {},
   "outputs": [],
   "source": [
    "Total = 10000\n",
    "N_Employed = 7056\n",
    "N_Unemp = 2944"
   ]
  },
  {
   "cell_type": "code",
   "execution_count": 13,
   "id": "a3c500ed",
   "metadata": {},
   "outputs": [
    {
     "data": {
      "text/plain": [
       "70.56"
      ]
     },
     "execution_count": 13,
     "metadata": {},
     "output_type": "execute_result"
    }
   ],
   "source": [
    "N_Employed / Total * 100"
   ]
  },
  {
   "cell_type": "code",
   "execution_count": 14,
   "id": "24f1ca83",
   "metadata": {},
   "outputs": [
    {
     "data": {
      "text/plain": [
       "29.439999999999998"
      ]
     },
     "execution_count": 14,
     "metadata": {},
     "output_type": "execute_result"
    }
   ],
   "source": [
    "N_Unemp / Total * 100"
   ]
  },
  {
   "cell_type": "code",
   "execution_count": 15,
   "id": "57f60886",
   "metadata": {},
   "outputs": [
    {
     "name": "stdout",
     "output_type": "stream",
     "text": [
      "Defaulted?  Employed\n",
      "0           0           2817\n",
      "            1           6850\n",
      "1           0            127\n",
      "            1            206\n",
      "Name: Index, dtype: int64\n"
     ]
    }
   ],
   "source": [
    "data_groupby = data.groupby(['Defaulted?','Employed'])['Index'].count()\n",
    "# - 1 Employed\n",
    "# - 0 Unemployed\n",
    "\n",
    "# - 1 Defaulted\n",
    "# - Not Defaulted\n",
    "print(data_groupby)"
   ]
  },
  {
   "cell_type": "markdown",
   "id": "798bddc1",
   "metadata": {},
   "source": [
    "#### 2817 did not default although are classified as unemployed \n",
    "#### 6850 did not default and are classified as employed \n",
    "#### 206 defaulted although they were classified as employed and 127 defaulted and were classified as unemployed \n",
    "\n",
    "#### It is interesting that among those who defaulted the majority are those classified as employed. "
   ]
  },
  {
   "cell_type": "markdown",
   "id": "a7b932a3",
   "metadata": {},
   "source": [
    "### Bank Balance"
   ]
  },
  {
   "cell_type": "code",
   "execution_count": 16,
   "id": "d43904d9",
   "metadata": {},
   "outputs": [
    {
     "data": {
      "text/plain": [
       "Index(['Index', 'Employed', 'Bank Balance', 'Annual Salary', 'Defaulted?'], dtype='object')"
      ]
     },
     "execution_count": 16,
     "metadata": {},
     "output_type": "execute_result"
    }
   ],
   "source": [
    "data.columns"
   ]
  },
  {
   "cell_type": "code",
   "execution_count": 17,
   "id": "17220f4d",
   "metadata": {},
   "outputs": [
    {
     "data": {
      "text/plain": [
       "0        8754.36\n",
       "1        9806.16\n",
       "2       12882.60\n",
       "3        6351.00\n",
       "4        9427.92\n",
       "          ...   \n",
       "9995     8538.72\n",
       "9996     9095.52\n",
       "9997    10144.92\n",
       "9998    18828.12\n",
       "9999     2411.04\n",
       "Name: Bank Balance, Length: 10000, dtype: float64"
      ]
     },
     "execution_count": 17,
     "metadata": {},
     "output_type": "execute_result"
    }
   ],
   "source": [
    "data['Bank Balance'] #Because of the space "
   ]
  },
  {
   "cell_type": "code",
   "execution_count": 18,
   "id": "1329c8ff",
   "metadata": {},
   "outputs": [
    {
     "data": {
      "text/plain": [
       "count    10000.000000\n",
       "mean     10024.498524\n",
       "std       5804.579486\n",
       "min          0.000000\n",
       "25%       5780.790000\n",
       "50%       9883.620000\n",
       "75%      13995.660000\n",
       "max      31851.840000\n",
       "Name: Bank Balance, dtype: float64"
      ]
     },
     "execution_count": 18,
     "metadata": {},
     "output_type": "execute_result"
    }
   ],
   "source": [
    "data['Bank Balance'].describe()"
   ]
  },
  {
   "cell_type": "code",
   "execution_count": 19,
   "id": "dccaa4ca",
   "metadata": {},
   "outputs": [],
   "source": [
    "# The average account balance for this dataset is 10024 with a std deviation of 5804"
   ]
  },
  {
   "cell_type": "code",
   "execution_count": 20,
   "id": "862baa63",
   "metadata": {},
   "outputs": [],
   "source": [
    "# divide the people into high income and low income\n",
    "high_B_balance = data['Bank Balance'] >= 10025 \n",
    "low_B_balance = data['Bank Balance'] < 10025"
   ]
  },
  {
   "cell_type": "code",
   "execution_count": 21,
   "id": "00050d8f",
   "metadata": {},
   "outputs": [
    {
     "data": {
      "text/plain": [
       "False    5093\n",
       "True     4907\n",
       "Name: Bank Balance, dtype: int64"
      ]
     },
     "execution_count": 21,
     "metadata": {},
     "output_type": "execute_result"
    }
   ],
   "source": [
    "H_Balance = high_B_balance.value_counts()\n",
    "H_Balance"
   ]
  },
  {
   "cell_type": "code",
   "execution_count": 22,
   "id": "84206bae",
   "metadata": {},
   "outputs": [],
   "source": [
    "# 4907 people do have a 'high banl balance' of >= 10025\n",
    "# 5093 do not"
   ]
  },
  {
   "cell_type": "code",
   "execution_count": 23,
   "id": "6406d257",
   "metadata": {},
   "outputs": [
    {
     "name": "stdout",
     "output_type": "stream",
     "text": [
      "0       False\n",
      "1       False\n",
      "2        True\n",
      "3       False\n",
      "4       False\n",
      "        ...  \n",
      "9995    False\n",
      "9996    False\n",
      "9997     True\n",
      "9998     True\n",
      "9999    False\n",
      "Name: High_or_Low_Balance, Length: 10000, dtype: bool\n"
     ]
    }
   ],
   "source": [
    "# let's create a new column with theses values = having a balance >= 10025 or < (this will have a binary value)\n",
    "data['High_or_Low_Balance'] = high_B_balance\n",
    "print(data['High_or_Low_Balance'])"
   ]
  },
  {
   "cell_type": "code",
   "execution_count": 24,
   "id": "7bf66600",
   "metadata": {},
   "outputs": [
    {
     "data": {
      "text/plain": [
       "Index(['Index', 'Employed', 'Bank Balance', 'Annual Salary', 'Defaulted?',\n",
       "       'High_or_Low_Balance'],\n",
       "      dtype='object')"
      ]
     },
     "execution_count": 24,
     "metadata": {},
     "output_type": "execute_result"
    }
   ],
   "source": [
    "data.columns"
   ]
  },
  {
   "cell_type": "code",
   "execution_count": 25,
   "id": "d8370184",
   "metadata": {},
   "outputs": [
    {
     "data": {
      "text/html": [
       "<div>\n",
       "<style scoped>\n",
       "    .dataframe tbody tr th:only-of-type {\n",
       "        vertical-align: middle;\n",
       "    }\n",
       "\n",
       "    .dataframe tbody tr th {\n",
       "        vertical-align: top;\n",
       "    }\n",
       "\n",
       "    .dataframe thead th {\n",
       "        text-align: right;\n",
       "    }\n",
       "</style>\n",
       "<table border=\"1\" class=\"dataframe\">\n",
       "  <thead>\n",
       "    <tr style=\"text-align: right;\">\n",
       "      <th></th>\n",
       "      <th>Index</th>\n",
       "      <th>Employed</th>\n",
       "      <th>Bank Balance</th>\n",
       "      <th>Annual Salary</th>\n",
       "      <th>Defaulted?</th>\n",
       "      <th>High_or_Low_Balance</th>\n",
       "    </tr>\n",
       "  </thead>\n",
       "  <tbody>\n",
       "    <tr>\n",
       "      <th>0</th>\n",
       "      <td>1</td>\n",
       "      <td>1</td>\n",
       "      <td>8754.36</td>\n",
       "      <td>532339.56</td>\n",
       "      <td>0</td>\n",
       "      <td>False</td>\n",
       "    </tr>\n",
       "    <tr>\n",
       "      <th>1</th>\n",
       "      <td>2</td>\n",
       "      <td>0</td>\n",
       "      <td>9806.16</td>\n",
       "      <td>145273.56</td>\n",
       "      <td>0</td>\n",
       "      <td>False</td>\n",
       "    </tr>\n",
       "    <tr>\n",
       "      <th>2</th>\n",
       "      <td>3</td>\n",
       "      <td>1</td>\n",
       "      <td>12882.60</td>\n",
       "      <td>381205.68</td>\n",
       "      <td>0</td>\n",
       "      <td>True</td>\n",
       "    </tr>\n",
       "    <tr>\n",
       "      <th>3</th>\n",
       "      <td>4</td>\n",
       "      <td>1</td>\n",
       "      <td>6351.00</td>\n",
       "      <td>428453.88</td>\n",
       "      <td>0</td>\n",
       "      <td>False</td>\n",
       "    </tr>\n",
       "    <tr>\n",
       "      <th>4</th>\n",
       "      <td>5</td>\n",
       "      <td>1</td>\n",
       "      <td>9427.92</td>\n",
       "      <td>461562.00</td>\n",
       "      <td>0</td>\n",
       "      <td>False</td>\n",
       "    </tr>\n",
       "    <tr>\n",
       "      <th>...</th>\n",
       "      <td>...</td>\n",
       "      <td>...</td>\n",
       "      <td>...</td>\n",
       "      <td>...</td>\n",
       "      <td>...</td>\n",
       "      <td>...</td>\n",
       "    </tr>\n",
       "    <tr>\n",
       "      <th>9995</th>\n",
       "      <td>9996</td>\n",
       "      <td>1</td>\n",
       "      <td>8538.72</td>\n",
       "      <td>635908.56</td>\n",
       "      <td>0</td>\n",
       "      <td>False</td>\n",
       "    </tr>\n",
       "    <tr>\n",
       "      <th>9996</th>\n",
       "      <td>9997</td>\n",
       "      <td>1</td>\n",
       "      <td>9095.52</td>\n",
       "      <td>235928.64</td>\n",
       "      <td>0</td>\n",
       "      <td>False</td>\n",
       "    </tr>\n",
       "    <tr>\n",
       "      <th>9997</th>\n",
       "      <td>9998</td>\n",
       "      <td>1</td>\n",
       "      <td>10144.92</td>\n",
       "      <td>703633.92</td>\n",
       "      <td>0</td>\n",
       "      <td>True</td>\n",
       "    </tr>\n",
       "    <tr>\n",
       "      <th>9998</th>\n",
       "      <td>9999</td>\n",
       "      <td>1</td>\n",
       "      <td>18828.12</td>\n",
       "      <td>440029.32</td>\n",
       "      <td>0</td>\n",
       "      <td>True</td>\n",
       "    </tr>\n",
       "    <tr>\n",
       "      <th>9999</th>\n",
       "      <td>10000</td>\n",
       "      <td>0</td>\n",
       "      <td>2411.04</td>\n",
       "      <td>202355.40</td>\n",
       "      <td>0</td>\n",
       "      <td>False</td>\n",
       "    </tr>\n",
       "  </tbody>\n",
       "</table>\n",
       "<p>10000 rows × 6 columns</p>\n",
       "</div>"
      ],
      "text/plain": [
       "      Index  Employed  Bank Balance  Annual Salary  Defaulted?  \\\n",
       "0         1         1       8754.36      532339.56           0   \n",
       "1         2         0       9806.16      145273.56           0   \n",
       "2         3         1      12882.60      381205.68           0   \n",
       "3         4         1       6351.00      428453.88           0   \n",
       "4         5         1       9427.92      461562.00           0   \n",
       "...     ...       ...           ...            ...         ...   \n",
       "9995   9996         1       8538.72      635908.56           0   \n",
       "9996   9997         1       9095.52      235928.64           0   \n",
       "9997   9998         1      10144.92      703633.92           0   \n",
       "9998   9999         1      18828.12      440029.32           0   \n",
       "9999  10000         0       2411.04      202355.40           0   \n",
       "\n",
       "      High_or_Low_Balance  \n",
       "0                   False  \n",
       "1                   False  \n",
       "2                    True  \n",
       "3                   False  \n",
       "4                   False  \n",
       "...                   ...  \n",
       "9995                False  \n",
       "9996                False  \n",
       "9997                 True  \n",
       "9998                 True  \n",
       "9999                False  \n",
       "\n",
       "[10000 rows x 6 columns]"
      ]
     },
     "execution_count": 25,
     "metadata": {},
     "output_type": "execute_result"
    }
   ],
   "source": [
    "data"
   ]
  },
  {
   "cell_type": "code",
   "execution_count": 26,
   "id": "8a4a9ff8",
   "metadata": {},
   "outputs": [],
   "source": [
    "data['High_or_Low_Balance'] = data['High_or_Low_Balance'].astype(int)"
   ]
  },
  {
   "cell_type": "code",
   "execution_count": 27,
   "id": "5da93d09",
   "metadata": {},
   "outputs": [
    {
     "data": {
      "text/plain": [
       "0       0\n",
       "1       0\n",
       "2       1\n",
       "3       0\n",
       "4       0\n",
       "       ..\n",
       "9995    0\n",
       "9996    0\n",
       "9997    1\n",
       "9998    1\n",
       "9999    0\n",
       "Name: High_or_Low_Balance, Length: 10000, dtype: int32"
      ]
     },
     "execution_count": 27,
     "metadata": {},
     "output_type": "execute_result"
    }
   ],
   "source": [
    "data['High_or_Low_Balance']"
   ]
  },
  {
   "cell_type": "code",
   "execution_count": 28,
   "id": "b798ad8f",
   "metadata": {},
   "outputs": [
    {
     "name": "stdout",
     "output_type": "stream",
     "text": [
      "      Index  Employed  Bank Balance  Annual Salary  Defaulted?  \\\n",
      "0         1         1       8754.36      532339.56           0   \n",
      "1         2         0       9806.16      145273.56           0   \n",
      "2         3         1      12882.60      381205.68           0   \n",
      "3         4         1       6351.00      428453.88           0   \n",
      "4         5         1       9427.92      461562.00           0   \n",
      "...     ...       ...           ...            ...         ...   \n",
      "9995   9996         1       8538.72      635908.56           0   \n",
      "9996   9997         1       9095.52      235928.64           0   \n",
      "9997   9998         1      10144.92      703633.92           0   \n",
      "9998   9999         1      18828.12      440029.32           0   \n",
      "9999  10000         0       2411.04      202355.40           0   \n",
      "\n",
      "      High_or_Low_Balance  \n",
      "0                       0  \n",
      "1                       0  \n",
      "2                       1  \n",
      "3                       0  \n",
      "4                       0  \n",
      "...                   ...  \n",
      "9995                    0  \n",
      "9996                    0  \n",
      "9997                    1  \n",
      "9998                    1  \n",
      "9999                    0  \n",
      "\n",
      "[10000 rows x 6 columns]\n"
     ]
    }
   ],
   "source": [
    "# Make sure there's no missing values within the dataset. \n",
    "data.dropna(axis=1, how='any', thresh=None, subset=None, inplace=False)\n",
    "print(data)"
   ]
  },
  {
   "cell_type": "code",
   "execution_count": 29,
   "id": "4b5ed17f",
   "metadata": {},
   "outputs": [
    {
     "name": "stdout",
     "output_type": "stream",
     "text": [
      "Defaulted?  High_or_Low_Balance\n",
      "0           0                      5090\n",
      "            1                      4577\n",
      "1           0                         3\n",
      "            1                       330\n",
      "Name: Index, dtype: int64\n"
     ]
    }
   ],
   "source": [
    "data_groupby = data.groupby(['Defaulted?','High_or_Low_Balance'])['Index'].count()\n",
    "print(data_groupby)\n",
    "# - 0 = low balance (Bank Balance lower than the average of 10025)\n",
    "# - 1 = High Balance (Bank Balance higher than or equal to the average of 10025)"
   ]
  },
  {
   "cell_type": "markdown",
   "id": "106991c9",
   "metadata": {},
   "source": [
    "#### 330 defaulted although they had a Bank Balance avobe or equal to the average of 10025 "
   ]
  },
  {
   "cell_type": "markdown",
   "id": "1643b5f3",
   "metadata": {},
   "source": [
    "### \tAnnual Salary"
   ]
  },
  {
   "cell_type": "code",
   "execution_count": 30,
   "id": "06789478",
   "metadata": {},
   "outputs": [
    {
     "data": {
      "text/plain": [
       "0       532339.56\n",
       "1       145273.56\n",
       "2       381205.68\n",
       "3       428453.88\n",
       "4       461562.00\n",
       "          ...    \n",
       "9995    635908.56\n",
       "9996    235928.64\n",
       "9997    703633.92\n",
       "9998    440029.32\n",
       "9999    202355.40\n",
       "Name: Annual Salary, Length: 10000, dtype: float64"
      ]
     },
     "execution_count": 30,
     "metadata": {},
     "output_type": "execute_result"
    }
   ],
   "source": [
    "data['Annual Salary']"
   ]
  },
  {
   "cell_type": "code",
   "execution_count": 31,
   "id": "84c7c878",
   "metadata": {},
   "outputs": [
    {
     "data": {
      "text/plain": [
       "count     10000.000000\n",
       "mean     402203.782224\n",
       "std      160039.674988\n",
       "min        9263.640000\n",
       "25%      256085.520000\n",
       "50%      414631.740000\n",
       "75%      525692.760000\n",
       "max      882650.760000\n",
       "Name: Annual Salary, dtype: float64"
      ]
     },
     "execution_count": 31,
     "metadata": {},
     "output_type": "execute_result"
    }
   ],
   "source": [
    "data['Annual Salary'].describe()"
   ]
  },
  {
   "cell_type": "code",
   "execution_count": 32,
   "id": "75980ee6",
   "metadata": {},
   "outputs": [],
   "source": [
    "# we can see that the average salary is 402203.  "
   ]
  },
  {
   "cell_type": "code",
   "execution_count": 33,
   "id": "2318acbe",
   "metadata": {},
   "outputs": [],
   "source": [
    "# divide the people into high income and low income\n",
    "high_income = data['Annual Salary'] >= 402203 \n",
    "low_income = data['Annual Salary'] < 402203"
   ]
  },
  {
   "cell_type": "code",
   "execution_count": 34,
   "id": "b254b6f2",
   "metadata": {},
   "outputs": [
    {
     "data": {
      "text/plain": [
       "True     5264\n",
       "False    4736\n",
       "Name: Annual Salary, dtype: int64"
      ]
     },
     "execution_count": 34,
     "metadata": {},
     "output_type": "execute_result"
    }
   ],
   "source": [
    "High_Income = high_income.value_counts()\n",
    "High_Income"
   ]
  },
  {
   "cell_type": "code",
   "execution_count": 35,
   "id": "6e0d80e7",
   "metadata": {},
   "outputs": [
    {
     "name": "stdout",
     "output_type": "stream",
     "text": [
      "0        True\n",
      "1       False\n",
      "2       False\n",
      "3        True\n",
      "4        True\n",
      "        ...  \n",
      "9995     True\n",
      "9996    False\n",
      "9997     True\n",
      "9998     True\n",
      "9999    False\n",
      "Name: high_income, Length: 10000, dtype: bool\n"
     ]
    }
   ],
   "source": [
    "# let's create a new column with theses values = having a balance >= 402203 or < (this will have a binary value)\n",
    "data['high_income'] = high_income\n",
    "print(data['high_income'])"
   ]
  },
  {
   "cell_type": "code",
   "execution_count": 36,
   "id": "8840cbca",
   "metadata": {},
   "outputs": [
    {
     "data": {
      "text/html": [
       "<div>\n",
       "<style scoped>\n",
       "    .dataframe tbody tr th:only-of-type {\n",
       "        vertical-align: middle;\n",
       "    }\n",
       "\n",
       "    .dataframe tbody tr th {\n",
       "        vertical-align: top;\n",
       "    }\n",
       "\n",
       "    .dataframe thead th {\n",
       "        text-align: right;\n",
       "    }\n",
       "</style>\n",
       "<table border=\"1\" class=\"dataframe\">\n",
       "  <thead>\n",
       "    <tr style=\"text-align: right;\">\n",
       "      <th></th>\n",
       "      <th>Index</th>\n",
       "      <th>Employed</th>\n",
       "      <th>Bank Balance</th>\n",
       "      <th>Annual Salary</th>\n",
       "      <th>Defaulted?</th>\n",
       "      <th>High_or_Low_Balance</th>\n",
       "      <th>high_income</th>\n",
       "    </tr>\n",
       "  </thead>\n",
       "  <tbody>\n",
       "    <tr>\n",
       "      <th>0</th>\n",
       "      <td>1</td>\n",
       "      <td>1</td>\n",
       "      <td>8754.36</td>\n",
       "      <td>532339.56</td>\n",
       "      <td>0</td>\n",
       "      <td>0</td>\n",
       "      <td>True</td>\n",
       "    </tr>\n",
       "    <tr>\n",
       "      <th>1</th>\n",
       "      <td>2</td>\n",
       "      <td>0</td>\n",
       "      <td>9806.16</td>\n",
       "      <td>145273.56</td>\n",
       "      <td>0</td>\n",
       "      <td>0</td>\n",
       "      <td>False</td>\n",
       "    </tr>\n",
       "    <tr>\n",
       "      <th>2</th>\n",
       "      <td>3</td>\n",
       "      <td>1</td>\n",
       "      <td>12882.60</td>\n",
       "      <td>381205.68</td>\n",
       "      <td>0</td>\n",
       "      <td>1</td>\n",
       "      <td>False</td>\n",
       "    </tr>\n",
       "    <tr>\n",
       "      <th>3</th>\n",
       "      <td>4</td>\n",
       "      <td>1</td>\n",
       "      <td>6351.00</td>\n",
       "      <td>428453.88</td>\n",
       "      <td>0</td>\n",
       "      <td>0</td>\n",
       "      <td>True</td>\n",
       "    </tr>\n",
       "    <tr>\n",
       "      <th>4</th>\n",
       "      <td>5</td>\n",
       "      <td>1</td>\n",
       "      <td>9427.92</td>\n",
       "      <td>461562.00</td>\n",
       "      <td>0</td>\n",
       "      <td>0</td>\n",
       "      <td>True</td>\n",
       "    </tr>\n",
       "    <tr>\n",
       "      <th>...</th>\n",
       "      <td>...</td>\n",
       "      <td>...</td>\n",
       "      <td>...</td>\n",
       "      <td>...</td>\n",
       "      <td>...</td>\n",
       "      <td>...</td>\n",
       "      <td>...</td>\n",
       "    </tr>\n",
       "    <tr>\n",
       "      <th>9995</th>\n",
       "      <td>9996</td>\n",
       "      <td>1</td>\n",
       "      <td>8538.72</td>\n",
       "      <td>635908.56</td>\n",
       "      <td>0</td>\n",
       "      <td>0</td>\n",
       "      <td>True</td>\n",
       "    </tr>\n",
       "    <tr>\n",
       "      <th>9996</th>\n",
       "      <td>9997</td>\n",
       "      <td>1</td>\n",
       "      <td>9095.52</td>\n",
       "      <td>235928.64</td>\n",
       "      <td>0</td>\n",
       "      <td>0</td>\n",
       "      <td>False</td>\n",
       "    </tr>\n",
       "    <tr>\n",
       "      <th>9997</th>\n",
       "      <td>9998</td>\n",
       "      <td>1</td>\n",
       "      <td>10144.92</td>\n",
       "      <td>703633.92</td>\n",
       "      <td>0</td>\n",
       "      <td>1</td>\n",
       "      <td>True</td>\n",
       "    </tr>\n",
       "    <tr>\n",
       "      <th>9998</th>\n",
       "      <td>9999</td>\n",
       "      <td>1</td>\n",
       "      <td>18828.12</td>\n",
       "      <td>440029.32</td>\n",
       "      <td>0</td>\n",
       "      <td>1</td>\n",
       "      <td>True</td>\n",
       "    </tr>\n",
       "    <tr>\n",
       "      <th>9999</th>\n",
       "      <td>10000</td>\n",
       "      <td>0</td>\n",
       "      <td>2411.04</td>\n",
       "      <td>202355.40</td>\n",
       "      <td>0</td>\n",
       "      <td>0</td>\n",
       "      <td>False</td>\n",
       "    </tr>\n",
       "  </tbody>\n",
       "</table>\n",
       "<p>10000 rows × 7 columns</p>\n",
       "</div>"
      ],
      "text/plain": [
       "      Index  Employed  Bank Balance  Annual Salary  Defaulted?  \\\n",
       "0         1         1       8754.36      532339.56           0   \n",
       "1         2         0       9806.16      145273.56           0   \n",
       "2         3         1      12882.60      381205.68           0   \n",
       "3         4         1       6351.00      428453.88           0   \n",
       "4         5         1       9427.92      461562.00           0   \n",
       "...     ...       ...           ...            ...         ...   \n",
       "9995   9996         1       8538.72      635908.56           0   \n",
       "9996   9997         1       9095.52      235928.64           0   \n",
       "9997   9998         1      10144.92      703633.92           0   \n",
       "9998   9999         1      18828.12      440029.32           0   \n",
       "9999  10000         0       2411.04      202355.40           0   \n",
       "\n",
       "      High_or_Low_Balance  high_income  \n",
       "0                       0         True  \n",
       "1                       0        False  \n",
       "2                       1        False  \n",
       "3                       0         True  \n",
       "4                       0         True  \n",
       "...                   ...          ...  \n",
       "9995                    0         True  \n",
       "9996                    0        False  \n",
       "9997                    1         True  \n",
       "9998                    1         True  \n",
       "9999                    0        False  \n",
       "\n",
       "[10000 rows x 7 columns]"
      ]
     },
     "execution_count": 36,
     "metadata": {},
     "output_type": "execute_result"
    }
   ],
   "source": [
    "data"
   ]
  },
  {
   "cell_type": "code",
   "execution_count": 37,
   "id": "049452bf",
   "metadata": {},
   "outputs": [
    {
     "name": "stdout",
     "output_type": "stream",
     "text": [
      "      Index  Employed  Bank Balance  Annual Salary  Defaulted?  \\\n",
      "0         1         1       8754.36      532339.56           0   \n",
      "1         2         0       9806.16      145273.56           0   \n",
      "2         3         1      12882.60      381205.68           0   \n",
      "3         4         1       6351.00      428453.88           0   \n",
      "4         5         1       9427.92      461562.00           0   \n",
      "...     ...       ...           ...            ...         ...   \n",
      "9995   9996         1       8538.72      635908.56           0   \n",
      "9996   9997         1       9095.52      235928.64           0   \n",
      "9997   9998         1      10144.92      703633.92           0   \n",
      "9998   9999         1      18828.12      440029.32           0   \n",
      "9999  10000         0       2411.04      202355.40           0   \n",
      "\n",
      "      High_or_Low_Balance  high_income  \n",
      "0                       0            1  \n",
      "1                       0            0  \n",
      "2                       1            0  \n",
      "3                       0            1  \n",
      "4                       0            1  \n",
      "...                   ...          ...  \n",
      "9995                    0            1  \n",
      "9996                    0            0  \n",
      "9997                    1            1  \n",
      "9998                    1            1  \n",
      "9999                    0            0  \n",
      "\n",
      "[10000 rows x 7 columns]\n"
     ]
    }
   ],
   "source": [
    "data['high_income'] = data['high_income'].astype(int)\n",
    "# 1 = True => 402203\n",
    "# 0 = False < 402203\n",
    "print(data)"
   ]
  },
  {
   "cell_type": "code",
   "execution_count": 38,
   "id": "b064236e",
   "metadata": {},
   "outputs": [
    {
     "name": "stdout",
     "output_type": "stream",
     "text": [
      "Defaulted?  high_income\n",
      "0           0              4561\n",
      "            1              5106\n",
      "1           0               175\n",
      "            1               158\n",
      "Name: Index, dtype: int64\n"
     ]
    }
   ],
   "source": [
    "data_groupby = data.groupby(['Defaulted?','high_income'])['Index'].count()\n",
    "print(data_groupby)\n",
    "# - 0 = low income (=> 402203)\n",
    "# - 1 = High Income (< 402203)"
   ]
  },
  {
   "cell_type": "markdown",
   "id": "38b3b18f",
   "metadata": {},
   "source": [
    "#### 158 of those who defaulted had an annual salary above the average of approx. 402k and 175 below. "
   ]
  },
  {
   "cell_type": "markdown",
   "id": "c1db3e2b",
   "metadata": {},
   "source": [
    "### Defaulted"
   ]
  },
  {
   "cell_type": "code",
   "execution_count": 39,
   "id": "704fd2fa",
   "metadata": {},
   "outputs": [
    {
     "data": {
      "text/plain": [
       "0       0\n",
       "1       0\n",
       "2       0\n",
       "3       0\n",
       "4       0\n",
       "       ..\n",
       "9995    0\n",
       "9996    0\n",
       "9997    0\n",
       "9998    0\n",
       "9999    0\n",
       "Name: Defaulted?, Length: 10000, dtype: int64"
      ]
     },
     "execution_count": 39,
     "metadata": {},
     "output_type": "execute_result"
    }
   ],
   "source": [
    "data['Defaulted?'] "
   ]
  },
  {
   "cell_type": "code",
   "execution_count": 40,
   "id": "e9d20289",
   "metadata": {},
   "outputs": [
    {
     "data": {
      "text/plain": [
       "0    9667\n",
       "1     333\n",
       "Name: Defaulted?, dtype: int64"
      ]
     },
     "execution_count": 40,
     "metadata": {},
     "output_type": "execute_result"
    }
   ],
   "source": [
    "# NUmber of employed and Unemployed people \n",
    "\n",
    "Def = data['Defaulted?'].value_counts()\n",
    "Def"
   ]
  },
  {
   "cell_type": "code",
   "execution_count": 41,
   "id": "e3135155",
   "metadata": {},
   "outputs": [],
   "source": [
    "Total = 10000\n",
    "Not_Defaulted = 9667\n",
    "Defaulted = 333"
   ]
  },
  {
   "cell_type": "code",
   "execution_count": 42,
   "id": "38ff4bba",
   "metadata": {},
   "outputs": [
    {
     "data": {
      "text/plain": [
       "3.3300000000000005"
      ]
     },
     "execution_count": 42,
     "metadata": {},
     "output_type": "execute_result"
    }
   ],
   "source": [
    "Defaulted / Total *100"
   ]
  },
  {
   "cell_type": "code",
   "execution_count": 43,
   "id": "b4d3d2d0",
   "metadata": {},
   "outputs": [
    {
     "data": {
      "text/plain": [
       "<AxesSubplot:>"
      ]
     },
     "execution_count": 43,
     "metadata": {},
     "output_type": "execute_result"
    },
    {
     "data": {
      "image/png": "[encoded data removed]",
      "text/plain": [
       "<Figure size 432x288 with 1 Axes>"
      ]
     },
     "metadata": {
      "needs_background": "light"
     },
     "output_type": "display_data"
    }
   ],
   "source": [
    "Def.plot(kind='barh')"
   ]
  },
  {
   "cell_type": "markdown",
   "id": "82591a29",
   "metadata": {},
   "source": [
    "#### from the total dataset only 3.33% defaulted on theur loans, which is equal to 333 account holders. However, despite the relative\n",
    "#### low percentage no assumptions can be made as we do not know the granularity of those defaults. "
   ]
  },
  {
   "cell_type": "markdown",
   "id": "81a79e8a",
   "metadata": {},
   "source": [
    "### Prediction Model for classification - K Nearst Neighbors \n",
    "#### The idea is to make a prediction based on the characteristics of the account holder, which the model allocate to the nearst group\n",
    "#### taking into account what we call \"Euclidean Distance\""
   ]
  },
  {
   "cell_type": "code",
   "execution_count": 46,
   "id": "f41d52b2",
   "metadata": {},
   "outputs": [
    {
     "data": {
      "text/html": [
       "<div>\n",
       "<style scoped>\n",
       "    .dataframe tbody tr th:only-of-type {\n",
       "        vertical-align: middle;\n",
       "    }\n",
       "\n",
       "    .dataframe tbody tr th {\n",
       "        vertical-align: top;\n",
       "    }\n",
       "\n",
       "    .dataframe thead th {\n",
       "        text-align: right;\n",
       "    }\n",
       "</style>\n",
       "<table border=\"1\" class=\"dataframe\">\n",
       "  <thead>\n",
       "    <tr style=\"text-align: right;\">\n",
       "      <th></th>\n",
       "      <th>Index</th>\n",
       "      <th>Employed</th>\n",
       "      <th>Bank Balance</th>\n",
       "      <th>Annual Salary</th>\n",
       "      <th>Defaulted?</th>\n",
       "      <th>High_or_Low_Balance</th>\n",
       "      <th>high_income</th>\n",
       "    </tr>\n",
       "  </thead>\n",
       "  <tbody>\n",
       "    <tr>\n",
       "      <th>0</th>\n",
       "      <td>1</td>\n",
       "      <td>1</td>\n",
       "      <td>8754.36</td>\n",
       "      <td>532339.56</td>\n",
       "      <td>0</td>\n",
       "      <td>0</td>\n",
       "      <td>1</td>\n",
       "    </tr>\n",
       "    <tr>\n",
       "      <th>1</th>\n",
       "      <td>2</td>\n",
       "      <td>0</td>\n",
       "      <td>9806.16</td>\n",
       "      <td>145273.56</td>\n",
       "      <td>0</td>\n",
       "      <td>0</td>\n",
       "      <td>0</td>\n",
       "    </tr>\n",
       "    <tr>\n",
       "      <th>2</th>\n",
       "      <td>3</td>\n",
       "      <td>1</td>\n",
       "      <td>12882.60</td>\n",
       "      <td>381205.68</td>\n",
       "      <td>0</td>\n",
       "      <td>1</td>\n",
       "      <td>0</td>\n",
       "    </tr>\n",
       "    <tr>\n",
       "      <th>3</th>\n",
       "      <td>4</td>\n",
       "      <td>1</td>\n",
       "      <td>6351.00</td>\n",
       "      <td>428453.88</td>\n",
       "      <td>0</td>\n",
       "      <td>0</td>\n",
       "      <td>1</td>\n",
       "    </tr>\n",
       "    <tr>\n",
       "      <th>4</th>\n",
       "      <td>5</td>\n",
       "      <td>1</td>\n",
       "      <td>9427.92</td>\n",
       "      <td>461562.00</td>\n",
       "      <td>0</td>\n",
       "      <td>0</td>\n",
       "      <td>1</td>\n",
       "    </tr>\n",
       "  </tbody>\n",
       "</table>\n",
       "</div>"
      ],
      "text/plain": [
       "   Index  Employed  Bank Balance  Annual Salary  Defaulted?  \\\n",
       "0      1         1       8754.36      532339.56           0   \n",
       "1      2         0       9806.16      145273.56           0   \n",
       "2      3         1      12882.60      381205.68           0   \n",
       "3      4         1       6351.00      428453.88           0   \n",
       "4      5         1       9427.92      461562.00           0   \n",
       "\n",
       "   High_or_Low_Balance  high_income  \n",
       "0                    0            1  \n",
       "1                    0            0  \n",
       "2                    1            0  \n",
       "3                    0            1  \n",
       "4                    0            1  "
      ]
     },
     "execution_count": 46,
     "metadata": {},
     "output_type": "execute_result"
    }
   ],
   "source": [
    "data['Defaulted?'] \n",
    "data.head()"
   ]
  },
  {
   "cell_type": "code",
   "execution_count": 48,
   "id": "5b17e4bc",
   "metadata": {},
   "outputs": [
    {
     "data": {
      "text/html": [
       "<div>\n",
       "<style scoped>\n",
       "    .dataframe tbody tr th:only-of-type {\n",
       "        vertical-align: middle;\n",
       "    }\n",
       "\n",
       "    .dataframe tbody tr th {\n",
       "        vertical-align: top;\n",
       "    }\n",
       "\n",
       "    .dataframe thead th {\n",
       "        text-align: right;\n",
       "    }\n",
       "</style>\n",
       "<table border=\"1\" class=\"dataframe\">\n",
       "  <thead>\n",
       "    <tr style=\"text-align: right;\">\n",
       "      <th></th>\n",
       "      <th>Index</th>\n",
       "      <th>Employed</th>\n",
       "      <th>Bank Balance</th>\n",
       "      <th>Annual Salary</th>\n",
       "      <th>Defaulted?</th>\n",
       "      <th>High_or_Low_Balance</th>\n",
       "      <th>high_income</th>\n",
       "    </tr>\n",
       "  </thead>\n",
       "  <tbody>\n",
       "    <tr>\n",
       "      <th>136</th>\n",
       "      <td>137</td>\n",
       "      <td>0</td>\n",
       "      <td>17844.00</td>\n",
       "      <td>214252.80</td>\n",
       "      <td>1</td>\n",
       "      <td>1</td>\n",
       "      <td>0</td>\n",
       "    </tr>\n",
       "    <tr>\n",
       "      <th>173</th>\n",
       "      <td>174</td>\n",
       "      <td>0</td>\n",
       "      <td>26469.60</td>\n",
       "      <td>171257.88</td>\n",
       "      <td>1</td>\n",
       "      <td>1</td>\n",
       "      <td>0</td>\n",
       "    </tr>\n",
       "    <tr>\n",
       "      <th>201</th>\n",
       "      <td>202</td>\n",
       "      <td>0</td>\n",
       "      <td>21296.28</td>\n",
       "      <td>244314.12</td>\n",
       "      <td>1</td>\n",
       "      <td>1</td>\n",
       "      <td>0</td>\n",
       "    </tr>\n",
       "    <tr>\n",
       "      <th>206</th>\n",
       "      <td>207</td>\n",
       "      <td>1</td>\n",
       "      <td>22675.20</td>\n",
       "      <td>587474.04</td>\n",
       "      <td>1</td>\n",
       "      <td>1</td>\n",
       "      <td>1</td>\n",
       "    </tr>\n",
       "    <tr>\n",
       "      <th>209</th>\n",
       "      <td>210</td>\n",
       "      <td>0</td>\n",
       "      <td>22792.68</td>\n",
       "      <td>247862.40</td>\n",
       "      <td>1</td>\n",
       "      <td>1</td>\n",
       "      <td>0</td>\n",
       "    </tr>\n",
       "  </tbody>\n",
       "</table>\n",
       "</div>"
      ],
      "text/plain": [
       "     Index  Employed  Bank Balance  Annual Salary  Defaulted?  \\\n",
       "136    137         0      17844.00      214252.80           1   \n",
       "173    174         0      26469.60      171257.88           1   \n",
       "201    202         0      21296.28      244314.12           1   \n",
       "206    207         1      22675.20      587474.04           1   \n",
       "209    210         0      22792.68      247862.40           1   \n",
       "\n",
       "     High_or_Low_Balance  high_income  \n",
       "136                    1            0  \n",
       "173                    1            0  \n",
       "201                    1            0  \n",
       "206                    1            1  \n",
       "209                    1            0  "
      ]
     },
     "execution_count": 48,
     "metadata": {},
     "output_type": "execute_result"
    }
   ],
   "source": [
    "data[data['Defaulted?']==1].head()"
   ]
  },
  {
   "cell_type": "code",
   "execution_count": 49,
   "id": "a8b3cce5",
   "metadata": {},
   "outputs": [
    {
     "data": {
      "text/html": [
       "<div>\n",
       "<style scoped>\n",
       "    .dataframe tbody tr th:only-of-type {\n",
       "        vertical-align: middle;\n",
       "    }\n",
       "\n",
       "    .dataframe tbody tr th {\n",
       "        vertical-align: top;\n",
       "    }\n",
       "\n",
       "    .dataframe thead th {\n",
       "        text-align: right;\n",
       "    }\n",
       "</style>\n",
       "<table border=\"1\" class=\"dataframe\">\n",
       "  <thead>\n",
       "    <tr style=\"text-align: right;\">\n",
       "      <th></th>\n",
       "      <th>Index</th>\n",
       "      <th>Employed</th>\n",
       "      <th>Bank Balance</th>\n",
       "      <th>Annual Salary</th>\n",
       "      <th>Defaulted?</th>\n",
       "      <th>High_or_Low_Balance</th>\n",
       "      <th>high_income</th>\n",
       "    </tr>\n",
       "  </thead>\n",
       "  <tbody>\n",
       "    <tr>\n",
       "      <th>0</th>\n",
       "      <td>1</td>\n",
       "      <td>1</td>\n",
       "      <td>8754.36</td>\n",
       "      <td>532339.56</td>\n",
       "      <td>0</td>\n",
       "      <td>0</td>\n",
       "      <td>1</td>\n",
       "    </tr>\n",
       "    <tr>\n",
       "      <th>1</th>\n",
       "      <td>2</td>\n",
       "      <td>0</td>\n",
       "      <td>9806.16</td>\n",
       "      <td>145273.56</td>\n",
       "      <td>0</td>\n",
       "      <td>0</td>\n",
       "      <td>0</td>\n",
       "    </tr>\n",
       "    <tr>\n",
       "      <th>2</th>\n",
       "      <td>3</td>\n",
       "      <td>1</td>\n",
       "      <td>12882.60</td>\n",
       "      <td>381205.68</td>\n",
       "      <td>0</td>\n",
       "      <td>1</td>\n",
       "      <td>0</td>\n",
       "    </tr>\n",
       "    <tr>\n",
       "      <th>3</th>\n",
       "      <td>4</td>\n",
       "      <td>1</td>\n",
       "      <td>6351.00</td>\n",
       "      <td>428453.88</td>\n",
       "      <td>0</td>\n",
       "      <td>0</td>\n",
       "      <td>1</td>\n",
       "    </tr>\n",
       "    <tr>\n",
       "      <th>4</th>\n",
       "      <td>5</td>\n",
       "      <td>1</td>\n",
       "      <td>9427.92</td>\n",
       "      <td>461562.00</td>\n",
       "      <td>0</td>\n",
       "      <td>0</td>\n",
       "      <td>1</td>\n",
       "    </tr>\n",
       "  </tbody>\n",
       "</table>\n",
       "</div>"
      ],
      "text/plain": [
       "   Index  Employed  Bank Balance  Annual Salary  Defaulted?  \\\n",
       "0      1         1       8754.36      532339.56           0   \n",
       "1      2         0       9806.16      145273.56           0   \n",
       "2      3         1      12882.60      381205.68           0   \n",
       "3      4         1       6351.00      428453.88           0   \n",
       "4      5         1       9427.92      461562.00           0   \n",
       "\n",
       "   High_or_Low_Balance  high_income  \n",
       "0                    0            1  \n",
       "1                    0            0  \n",
       "2                    1            0  \n",
       "3                    0            1  \n",
       "4                    0            1  "
      ]
     },
     "execution_count": 49,
     "metadata": {},
     "output_type": "execute_result"
    }
   ],
   "source": [
    "data[data['Defaulted?']==0].head()"
   ]
  },
  {
   "cell_type": "code",
   "execution_count": 50,
   "id": "1a1b76ce",
   "metadata": {},
   "outputs": [
    {
     "data": {
      "text/plain": [
       "(10000, 7)"
      ]
     },
     "execution_count": 50,
     "metadata": {},
     "output_type": "execute_result"
    }
   ],
   "source": [
    "data.shape"
   ]
  },
  {
   "cell_type": "code",
   "execution_count": 54,
   "id": "d5dfcd41",
   "metadata": {},
   "outputs": [
    {
     "data": {
      "text/html": [
       "<div>\n",
       "<style scoped>\n",
       "    .dataframe tbody tr th:only-of-type {\n",
       "        vertical-align: middle;\n",
       "    }\n",
       "\n",
       "    .dataframe tbody tr th {\n",
       "        vertical-align: top;\n",
       "    }\n",
       "\n",
       "    .dataframe thead th {\n",
       "        text-align: right;\n",
       "    }\n",
       "</style>\n",
       "<table border=\"1\" class=\"dataframe\">\n",
       "  <thead>\n",
       "    <tr style=\"text-align: right;\">\n",
       "      <th></th>\n",
       "      <th>Index</th>\n",
       "      <th>Employed</th>\n",
       "      <th>Bank Balance</th>\n",
       "      <th>Annual Salary</th>\n",
       "      <th>Defaulted?</th>\n",
       "      <th>High_or_Low_Balance</th>\n",
       "      <th>high_income</th>\n",
       "    </tr>\n",
       "  </thead>\n",
       "  <tbody>\n",
       "    <tr>\n",
       "      <th>136</th>\n",
       "      <td>137</td>\n",
       "      <td>0</td>\n",
       "      <td>17844.00</td>\n",
       "      <td>214252.80</td>\n",
       "      <td>1</td>\n",
       "      <td>1</td>\n",
       "      <td>0</td>\n",
       "    </tr>\n",
       "    <tr>\n",
       "      <th>173</th>\n",
       "      <td>174</td>\n",
       "      <td>0</td>\n",
       "      <td>26469.60</td>\n",
       "      <td>171257.88</td>\n",
       "      <td>1</td>\n",
       "      <td>1</td>\n",
       "      <td>0</td>\n",
       "    </tr>\n",
       "    <tr>\n",
       "      <th>201</th>\n",
       "      <td>202</td>\n",
       "      <td>0</td>\n",
       "      <td>21296.28</td>\n",
       "      <td>244314.12</td>\n",
       "      <td>1</td>\n",
       "      <td>1</td>\n",
       "      <td>0</td>\n",
       "    </tr>\n",
       "    <tr>\n",
       "      <th>206</th>\n",
       "      <td>207</td>\n",
       "      <td>1</td>\n",
       "      <td>22675.20</td>\n",
       "      <td>587474.04</td>\n",
       "      <td>1</td>\n",
       "      <td>1</td>\n",
       "      <td>1</td>\n",
       "    </tr>\n",
       "    <tr>\n",
       "      <th>209</th>\n",
       "      <td>210</td>\n",
       "      <td>0</td>\n",
       "      <td>22792.68</td>\n",
       "      <td>247862.40</td>\n",
       "      <td>1</td>\n",
       "      <td>1</td>\n",
       "      <td>0</td>\n",
       "    </tr>\n",
       "    <tr>\n",
       "      <th>...</th>\n",
       "      <td>...</td>\n",
       "      <td>...</td>\n",
       "      <td>...</td>\n",
       "      <td>...</td>\n",
       "      <td>...</td>\n",
       "      <td>...</td>\n",
       "      <td>...</td>\n",
       "    </tr>\n",
       "    <tr>\n",
       "      <th>9912</th>\n",
       "      <td>9913</td>\n",
       "      <td>1</td>\n",
       "      <td>25786.80</td>\n",
       "      <td>531719.04</td>\n",
       "      <td>1</td>\n",
       "      <td>1</td>\n",
       "      <td>1</td>\n",
       "    </tr>\n",
       "    <tr>\n",
       "      <th>9921</th>\n",
       "      <td>9922</td>\n",
       "      <td>0</td>\n",
       "      <td>19534.80</td>\n",
       "      <td>210564.00</td>\n",
       "      <td>1</td>\n",
       "      <td>1</td>\n",
       "      <td>0</td>\n",
       "    </tr>\n",
       "    <tr>\n",
       "      <th>9949</th>\n",
       "      <td>9950</td>\n",
       "      <td>1</td>\n",
       "      <td>21003.00</td>\n",
       "      <td>618947.28</td>\n",
       "      <td>1</td>\n",
       "      <td>1</td>\n",
       "      <td>1</td>\n",
       "    </tr>\n",
       "    <tr>\n",
       "      <th>9951</th>\n",
       "      <td>9952</td>\n",
       "      <td>1</td>\n",
       "      <td>18187.32</td>\n",
       "      <td>584262.12</td>\n",
       "      <td>1</td>\n",
       "      <td>1</td>\n",
       "      <td>1</td>\n",
       "    </tr>\n",
       "    <tr>\n",
       "      <th>9978</th>\n",
       "      <td>9979</td>\n",
       "      <td>1</td>\n",
       "      <td>26429.52</td>\n",
       "      <td>567447.12</td>\n",
       "      <td>1</td>\n",
       "      <td>1</td>\n",
       "      <td>1</td>\n",
       "    </tr>\n",
       "  </tbody>\n",
       "</table>\n",
       "<p>333 rows × 7 columns</p>\n",
       "</div>"
      ],
      "text/plain": [
       "      Index  Employed  Bank Balance  Annual Salary  Defaulted?  \\\n",
       "136     137         0      17844.00      214252.80           1   \n",
       "173     174         0      26469.60      171257.88           1   \n",
       "201     202         0      21296.28      244314.12           1   \n",
       "206     207         1      22675.20      587474.04           1   \n",
       "209     210         0      22792.68      247862.40           1   \n",
       "...     ...       ...           ...            ...         ...   \n",
       "9912   9913         1      25786.80      531719.04           1   \n",
       "9921   9922         0      19534.80      210564.00           1   \n",
       "9949   9950         1      21003.00      618947.28           1   \n",
       "9951   9952         1      18187.32      584262.12           1   \n",
       "9978   9979         1      26429.52      567447.12           1   \n",
       "\n",
       "      High_or_Low_Balance  high_income  \n",
       "136                     1            0  \n",
       "173                     1            0  \n",
       "201                     1            0  \n",
       "206                     1            1  \n",
       "209                     1            0  \n",
       "...                   ...          ...  \n",
       "9912                    1            1  \n",
       "9921                    1            0  \n",
       "9949                    1            1  \n",
       "9951                    1            1  \n",
       "9978                    1            1  \n",
       "\n",
       "[333 rows x 7 columns]"
      ]
     },
     "execution_count": 54,
     "metadata": {},
     "output_type": "execute_result"
    }
   ],
   "source": [
    "data1 = data[(data['Defaulted?'] ==1)]\n",
    "data1"
   ]
  },
  {
   "cell_type": "code",
   "execution_count": 55,
   "id": "7569127d",
   "metadata": {},
   "outputs": [
    {
     "data": {
      "text/html": [
       "<div>\n",
       "<style scoped>\n",
       "    .dataframe tbody tr th:only-of-type {\n",
       "        vertical-align: middle;\n",
       "    }\n",
       "\n",
       "    .dataframe tbody tr th {\n",
       "        vertical-align: top;\n",
       "    }\n",
       "\n",
       "    .dataframe thead th {\n",
       "        text-align: right;\n",
       "    }\n",
       "</style>\n",
       "<table border=\"1\" class=\"dataframe\">\n",
       "  <thead>\n",
       "    <tr style=\"text-align: right;\">\n",
       "      <th></th>\n",
       "      <th>Index</th>\n",
       "      <th>Employed</th>\n",
       "      <th>Bank Balance</th>\n",
       "      <th>Annual Salary</th>\n",
       "      <th>Defaulted?</th>\n",
       "      <th>High_or_Low_Balance</th>\n",
       "      <th>high_income</th>\n",
       "    </tr>\n",
       "  </thead>\n",
       "  <tbody>\n",
       "    <tr>\n",
       "      <th>0</th>\n",
       "      <td>1</td>\n",
       "      <td>1</td>\n",
       "      <td>8754.36</td>\n",
       "      <td>532339.56</td>\n",
       "      <td>0</td>\n",
       "      <td>0</td>\n",
       "      <td>1</td>\n",
       "    </tr>\n",
       "    <tr>\n",
       "      <th>1</th>\n",
       "      <td>2</td>\n",
       "      <td>0</td>\n",
       "      <td>9806.16</td>\n",
       "      <td>145273.56</td>\n",
       "      <td>0</td>\n",
       "      <td>0</td>\n",
       "      <td>0</td>\n",
       "    </tr>\n",
       "    <tr>\n",
       "      <th>2</th>\n",
       "      <td>3</td>\n",
       "      <td>1</td>\n",
       "      <td>12882.60</td>\n",
       "      <td>381205.68</td>\n",
       "      <td>0</td>\n",
       "      <td>1</td>\n",
       "      <td>0</td>\n",
       "    </tr>\n",
       "    <tr>\n",
       "      <th>3</th>\n",
       "      <td>4</td>\n",
       "      <td>1</td>\n",
       "      <td>6351.00</td>\n",
       "      <td>428453.88</td>\n",
       "      <td>0</td>\n",
       "      <td>0</td>\n",
       "      <td>1</td>\n",
       "    </tr>\n",
       "    <tr>\n",
       "      <th>4</th>\n",
       "      <td>5</td>\n",
       "      <td>1</td>\n",
       "      <td>9427.92</td>\n",
       "      <td>461562.00</td>\n",
       "      <td>0</td>\n",
       "      <td>0</td>\n",
       "      <td>1</td>\n",
       "    </tr>\n",
       "    <tr>\n",
       "      <th>...</th>\n",
       "      <td>...</td>\n",
       "      <td>...</td>\n",
       "      <td>...</td>\n",
       "      <td>...</td>\n",
       "      <td>...</td>\n",
       "      <td>...</td>\n",
       "      <td>...</td>\n",
       "    </tr>\n",
       "    <tr>\n",
       "      <th>9995</th>\n",
       "      <td>9996</td>\n",
       "      <td>1</td>\n",
       "      <td>8538.72</td>\n",
       "      <td>635908.56</td>\n",
       "      <td>0</td>\n",
       "      <td>0</td>\n",
       "      <td>1</td>\n",
       "    </tr>\n",
       "    <tr>\n",
       "      <th>9996</th>\n",
       "      <td>9997</td>\n",
       "      <td>1</td>\n",
       "      <td>9095.52</td>\n",
       "      <td>235928.64</td>\n",
       "      <td>0</td>\n",
       "      <td>0</td>\n",
       "      <td>0</td>\n",
       "    </tr>\n",
       "    <tr>\n",
       "      <th>9997</th>\n",
       "      <td>9998</td>\n",
       "      <td>1</td>\n",
       "      <td>10144.92</td>\n",
       "      <td>703633.92</td>\n",
       "      <td>0</td>\n",
       "      <td>1</td>\n",
       "      <td>1</td>\n",
       "    </tr>\n",
       "    <tr>\n",
       "      <th>9998</th>\n",
       "      <td>9999</td>\n",
       "      <td>1</td>\n",
       "      <td>18828.12</td>\n",
       "      <td>440029.32</td>\n",
       "      <td>0</td>\n",
       "      <td>1</td>\n",
       "      <td>1</td>\n",
       "    </tr>\n",
       "    <tr>\n",
       "      <th>9999</th>\n",
       "      <td>10000</td>\n",
       "      <td>0</td>\n",
       "      <td>2411.04</td>\n",
       "      <td>202355.40</td>\n",
       "      <td>0</td>\n",
       "      <td>0</td>\n",
       "      <td>0</td>\n",
       "    </tr>\n",
       "  </tbody>\n",
       "</table>\n",
       "<p>9667 rows × 7 columns</p>\n",
       "</div>"
      ],
      "text/plain": [
       "      Index  Employed  Bank Balance  Annual Salary  Defaulted?  \\\n",
       "0         1         1       8754.36      532339.56           0   \n",
       "1         2         0       9806.16      145273.56           0   \n",
       "2         3         1      12882.60      381205.68           0   \n",
       "3         4         1       6351.00      428453.88           0   \n",
       "4         5         1       9427.92      461562.00           0   \n",
       "...     ...       ...           ...            ...         ...   \n",
       "9995   9996         1       8538.72      635908.56           0   \n",
       "9996   9997         1       9095.52      235928.64           0   \n",
       "9997   9998         1      10144.92      703633.92           0   \n",
       "9998   9999         1      18828.12      440029.32           0   \n",
       "9999  10000         0       2411.04      202355.40           0   \n",
       "\n",
       "      High_or_Low_Balance  high_income  \n",
       "0                       0            1  \n",
       "1                       0            0  \n",
       "2                       1            0  \n",
       "3                       0            1  \n",
       "4                       0            1  \n",
       "...                   ...          ...  \n",
       "9995                    0            1  \n",
       "9996                    0            0  \n",
       "9997                    1            1  \n",
       "9998                    1            1  \n",
       "9999                    0            0  \n",
       "\n",
       "[9667 rows x 7 columns]"
      ]
     },
     "execution_count": 55,
     "metadata": {},
     "output_type": "execute_result"
    }
   ],
   "source": [
    "data0 = data[(data['Defaulted?']==0)]\n",
    "data0"
   ]
  },
  {
   "cell_type": "code",
   "execution_count": 61,
   "id": "c2e80bb6",
   "metadata": {},
   "outputs": [],
   "source": [
    "import matplotlib.pyplot as plt\n",
    "%matplotlib inline \n",
    "import numpy as np"
   ]
  },
  {
   "cell_type": "code",
   "execution_count": 57,
   "id": "7d2e6cc1",
   "metadata": {},
   "outputs": [],
   "source": [
    "from sklearn.model_selection import train_test_split"
   ]
  },
  {
   "cell_type": "code",
   "execution_count": 62,
   "id": "10394fe3",
   "metadata": {},
   "outputs": [
    {
     "data": {
      "text/plain": [
       "array([[1.0000000e+00, 8.7543600e+03, 5.3233956e+05, 0.0000000e+00,\n",
       "        1.0000000e+00],\n",
       "       [0.0000000e+00, 9.8061600e+03, 1.4527356e+05, 0.0000000e+00,\n",
       "        0.0000000e+00],\n",
       "       [1.0000000e+00, 1.2882600e+04, 3.8120568e+05, 1.0000000e+00,\n",
       "        0.0000000e+00],\n",
       "       [1.0000000e+00, 6.3510000e+03, 4.2845388e+05, 0.0000000e+00,\n",
       "        1.0000000e+00],\n",
       "       [1.0000000e+00, 9.4279200e+03, 4.6156200e+05, 0.0000000e+00,\n",
       "        1.0000000e+00]])"
      ]
     },
     "execution_count": 62,
     "metadata": {},
     "output_type": "execute_result"
    }
   ],
   "source": [
    "X = np.asarray(data[['Employed', 'Bank Balance', 'Annual Salary', 'High_or_Low_Balance', 'high_income']])\n",
    "X[0:5]"
   ]
  },
  {
   "cell_type": "code",
   "execution_count": 63,
   "id": "f42ffdfe",
   "metadata": {},
   "outputs": [
    {
     "data": {
      "text/plain": [
       "array([0, 0, 0, 0, 0], dtype=int64)"
      ]
     },
     "execution_count": 63,
     "metadata": {},
     "output_type": "execute_result"
    }
   ],
   "source": [
    "y = np.asarray(data['Defaulted?'])\n",
    "y[0:5]"
   ]
  },
  {
   "cell_type": "code",
   "execution_count": 64,
   "id": "2553534f",
   "metadata": {},
   "outputs": [],
   "source": [
    "X_train, X_test, y_train, y_test = train_test_split(X, y, test_size=0.2, random_state=1)"
   ]
  },
  {
   "cell_type": "code",
   "execution_count": 65,
   "id": "63583472",
   "metadata": {},
   "outputs": [
    {
     "data": {
      "text/plain": [
       "8000"
      ]
     },
     "execution_count": 65,
     "metadata": {},
     "output_type": "execute_result"
    }
   ],
   "source": [
    "len(X_train)"
   ]
  },
  {
   "cell_type": "code",
   "execution_count": 66,
   "id": "550e96a9",
   "metadata": {},
   "outputs": [
    {
     "data": {
      "text/plain": [
       "2000"
      ]
     },
     "execution_count": 66,
     "metadata": {},
     "output_type": "execute_result"
    }
   ],
   "source": [
    "len(X_test)"
   ]
  },
  {
   "cell_type": "code",
   "execution_count": null,
   "id": "42b69702",
   "metadata": {},
   "outputs": [],
   "source": [
    "# create KNN"
   ]
  },
  {
   "cell_type": "code",
   "execution_count": 67,
   "id": "1a89879e",
   "metadata": {},
   "outputs": [
    {
     "data": {
      "text/plain": [
       "KNeighborsClassifier(n_neighbors=2)"
      ]
     },
     "execution_count": 67,
     "metadata": {},
     "output_type": "execute_result"
    }
   ],
   "source": [
    "from sklearn.neighbors import KNeighborsClassifier\n",
    "knn = KNeighborsClassifier(n_neighbors=2)\n",
    "knn.fit(X_train, y_train)"
   ]
  },
  {
   "cell_type": "code",
   "execution_count": 68,
   "id": "7509fc3f",
   "metadata": {},
   "outputs": [
    {
     "data": {
      "text/plain": [
       "0.969"
      ]
     },
     "execution_count": 68,
     "metadata": {},
     "output_type": "execute_result"
    }
   ],
   "source": [
    "knn.score(X_test, y_test)"
   ]
  },
  {
   "cell_type": "code",
   "execution_count": 71,
   "id": "f7e17ae9",
   "metadata": {},
   "outputs": [
    {
     "data": {
      "text/plain": [
       "array([[1932,    9],\n",
       "       [  53,    6]], dtype=int64)"
      ]
     },
     "execution_count": 71,
     "metadata": {},
     "output_type": "execute_result"
    }
   ],
   "source": [
    "from sklearn.metrics import confusion_matrix\n",
    "\n",
    "y_pred = knn.predict(X_test)\n",
    "\n",
    "default = confusion_matrix(y_test, y_pred)\n",
    "default"
   ]
  },
  {
   "cell_type": "code",
   "execution_count": 73,
   "id": "052070ea",
   "metadata": {},
   "outputs": [
    {
     "data": {
      "text/plain": [
       "Text(42.0, 0.5, 'Truth')"
      ]
     },
     "execution_count": 73,
     "metadata": {},
     "output_type": "execute_result"
    },
    {
     "data": {
      "image/png": "[encoded data removed]",
      "text/plain": [
       "<Figure size 504x360 with 2 Axes>"
      ]
     },
     "metadata": {
      "needs_background": "light"
     },
     "output_type": "display_data"
    }
   ],
   "source": [
    "%matplotlib inline\n",
    "import matplotlib.pyplot as plt \n",
    "import seaborn as sn\n",
    "plt.figure(figsize=(7,5))\n",
    "sn.heatmap(default, annot=True)\n",
    "plt.xlabel('Predicted')\n",
    "plt.ylabel('Truth')"
   ]
  },
  {
   "cell_type": "code",
   "execution_count": null,
   "id": "9076d762",
   "metadata": {},
   "outputs": [],
   "source": [
    "# interpretation: 1932 attempts it predicted as \"No Defaulted\" when the client did not default\n",
    "# 6 attempts it predicted as \"Defaulted\" when the client did default\n",
    "\n",
    "# 9 attempts it predicted as \"Defaulted when the client actually did not\"\n",
    "# 53 attempts it predicted \"No Defaulted\" when the client did default"
   ]
  }
 ],
 "metadata": {
  "kernelspec": {
   "display_name": "Python 3 (ipykernel)",
   "language": "python",
   "name": "python3"
  },
  "language_info": {
   "codemirror_mode": {
    "name": "ipython",
    "version": 3
   },
   "file_extension": ".py",
   "mimetype": "text/x-python",
   "name": "python",
   "nbconvert_exporter": "python",
   "pygments_lexer": "ipython3",
   "version": "3.9.12"
  }
 },
 "nbformat": 4,
 "nbformat_minor": 5
}
