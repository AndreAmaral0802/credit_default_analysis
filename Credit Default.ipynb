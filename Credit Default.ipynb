{
 "cells": [
  {
   "cell_type": "markdown",
   "id": "96d3b61b",
   "metadata": {},
   "source": [
    "# Credit Default Analysis"
   ]
  },
  {
   "cell_type": "code",
   "execution_count": 1,
   "id": "ef625b60",
   "metadata": {},
   "outputs": [],
   "source": [
    "### Download the dataset and the first library\n",
    "\n",
    "import pandas as pd"
   ]
  },
  {
   "cell_type": "code",
   "execution_count": 2,
   "id": "e7baab4c",
   "metadata": {},
   "outputs": [
    {
     "data": {
      "text/html": [
       "<div>\n",
       "<style scoped>\n",
       "    .dataframe tbody tr th:only-of-type {\n",
       "        vertical-align: middle;\n",
       "    }\n",
       "\n",
       "    .dataframe tbody tr th {\n",
       "        vertical-align: top;\n",
       "    }\n",
       "\n",
       "    .dataframe thead th {\n",
       "        text-align: right;\n",
       "    }\n",
       "</style>\n",
       "<table border=\"1\" class=\"dataframe\">\n",
       "  <thead>\n",
       "    <tr style=\"text-align: right;\">\n",
       "      <th></th>\n",
       "      <th>Index</th>\n",
       "      <th>Employed</th>\n",
       "      <th>Bank Balance</th>\n",
       "      <th>Annual Salary</th>\n",
       "      <th>Defaulted?</th>\n",
       "    </tr>\n",
       "  </thead>\n",
       "  <tbody>\n",
       "    <tr>\n",
       "      <th>0</th>\n",
       "      <td>1</td>\n",
       "      <td>1</td>\n",
       "      <td>8754.36</td>\n",
       "      <td>532339.56</td>\n",
       "      <td>0</td>\n",
       "    </tr>\n",
       "    <tr>\n",
       "      <th>1</th>\n",
       "      <td>2</td>\n",
       "      <td>0</td>\n",
       "      <td>9806.16</td>\n",
       "      <td>145273.56</td>\n",
       "      <td>0</td>\n",
       "    </tr>\n",
       "    <tr>\n",
       "      <th>2</th>\n",
       "      <td>3</td>\n",
       "      <td>1</td>\n",
       "      <td>12882.60</td>\n",
       "      <td>381205.68</td>\n",
       "      <td>0</td>\n",
       "    </tr>\n",
       "    <tr>\n",
       "      <th>3</th>\n",
       "      <td>4</td>\n",
       "      <td>1</td>\n",
       "      <td>6351.00</td>\n",
       "      <td>428453.88</td>\n",
       "      <td>0</td>\n",
       "    </tr>\n",
       "    <tr>\n",
       "      <th>4</th>\n",
       "      <td>5</td>\n",
       "      <td>1</td>\n",
       "      <td>9427.92</td>\n",
       "      <td>461562.00</td>\n",
       "      <td>0</td>\n",
       "    </tr>\n",
       "    <tr>\n",
       "      <th>...</th>\n",
       "      <td>...</td>\n",
       "      <td>...</td>\n",
       "      <td>...</td>\n",
       "      <td>...</td>\n",
       "      <td>...</td>\n",
       "    </tr>\n",
       "    <tr>\n",
       "      <th>9995</th>\n",
       "      <td>9996</td>\n",
       "      <td>1</td>\n",
       "      <td>8538.72</td>\n",
       "      <td>635908.56</td>\n",
       "      <td>0</td>\n",
       "    </tr>\n",
       "    <tr>\n",
       "      <th>9996</th>\n",
       "      <td>9997</td>\n",
       "      <td>1</td>\n",
       "      <td>9095.52</td>\n",
       "      <td>235928.64</td>\n",
       "      <td>0</td>\n",
       "    </tr>\n",
       "    <tr>\n",
       "      <th>9997</th>\n",
       "      <td>9998</td>\n",
       "      <td>1</td>\n",
       "      <td>10144.92</td>\n",
       "      <td>703633.92</td>\n",
       "      <td>0</td>\n",
       "    </tr>\n",
       "    <tr>\n",
       "      <th>9998</th>\n",
       "      <td>9999</td>\n",
       "      <td>1</td>\n",
       "      <td>18828.12</td>\n",
       "      <td>440029.32</td>\n",
       "      <td>0</td>\n",
       "    </tr>\n",
       "    <tr>\n",
       "      <th>9999</th>\n",
       "      <td>10000</td>\n",
       "      <td>0</td>\n",
       "      <td>2411.04</td>\n",
       "      <td>202355.40</td>\n",
       "      <td>0</td>\n",
       "    </tr>\n",
       "  </tbody>\n",
       "</table>\n",
       "<p>10000 rows × 5 columns</p>\n",
       "</div>"
      ],
      "text/plain": [
       "      Index  Employed  Bank Balance  Annual Salary  Defaulted?\n",
       "0         1         1       8754.36      532339.56           0\n",
       "1         2         0       9806.16      145273.56           0\n",
       "2         3         1      12882.60      381205.68           0\n",
       "3         4         1       6351.00      428453.88           0\n",
       "4         5         1       9427.92      461562.00           0\n",
       "...     ...       ...           ...            ...         ...\n",
       "9995   9996         1       8538.72      635908.56           0\n",
       "9996   9997         1       9095.52      235928.64           0\n",
       "9997   9998         1      10144.92      703633.92           0\n",
       "9998   9999         1      18828.12      440029.32           0\n",
       "9999  10000         0       2411.04      202355.40           0\n",
       "\n",
       "[10000 rows x 5 columns]"
      ]
     },
     "execution_count": 2,
     "metadata": {},
     "output_type": "execute_result"
    }
   ],
   "source": [
    "data = pd.read_csv('C:/Andre files/Credit Default/archive/Default_Fin.csv')\n",
    "data"
   ]
  },
  {
   "cell_type": "code",
   "execution_count": 3,
   "id": "a682dc33",
   "metadata": {},
   "outputs": [],
   "source": [
    "# 5 columns and 10.000 rows"
   ]
  },
  {
   "cell_type": "code",
   "execution_count": 4,
   "id": "cb6dec5f",
   "metadata": {},
   "outputs": [
    {
     "data": {
      "text/plain": [
       "Index(['Index', 'Employed', 'Bank Balance', 'Annual Salary', 'Defaulted?'], dtype='object')"
      ]
     },
     "execution_count": 4,
     "metadata": {},
     "output_type": "execute_result"
    }
   ],
   "source": [
    "data.columns"
   ]
  },
  {
   "cell_type": "code",
   "execution_count": 5,
   "id": "52c88c74",
   "metadata": {},
   "outputs": [
    {
     "data": {
      "text/html": [
       "<div>\n",
       "<style scoped>\n",
       "    .dataframe tbody tr th:only-of-type {\n",
       "        vertical-align: middle;\n",
       "    }\n",
       "\n",
       "    .dataframe tbody tr th {\n",
       "        vertical-align: top;\n",
       "    }\n",
       "\n",
       "    .dataframe thead th {\n",
       "        text-align: right;\n",
       "    }\n",
       "</style>\n",
       "<table border=\"1\" class=\"dataframe\">\n",
       "  <thead>\n",
       "    <tr style=\"text-align: right;\">\n",
       "      <th></th>\n",
       "      <th>Index</th>\n",
       "      <th>Employed</th>\n",
       "      <th>Bank Balance</th>\n",
       "      <th>Annual Salary</th>\n",
       "      <th>Defaulted?</th>\n",
       "    </tr>\n",
       "  </thead>\n",
       "  <tbody>\n",
       "    <tr>\n",
       "      <th>count</th>\n",
       "      <td>10000.00000</td>\n",
       "      <td>10000.000000</td>\n",
       "      <td>10000.000000</td>\n",
       "      <td>10000.000000</td>\n",
       "      <td>10000.000000</td>\n",
       "    </tr>\n",
       "    <tr>\n",
       "      <th>mean</th>\n",
       "      <td>5000.50000</td>\n",
       "      <td>0.705600</td>\n",
       "      <td>10024.498524</td>\n",
       "      <td>402203.782224</td>\n",
       "      <td>0.033300</td>\n",
       "    </tr>\n",
       "    <tr>\n",
       "      <th>std</th>\n",
       "      <td>2886.89568</td>\n",
       "      <td>0.455795</td>\n",
       "      <td>5804.579486</td>\n",
       "      <td>160039.674988</td>\n",
       "      <td>0.179428</td>\n",
       "    </tr>\n",
       "    <tr>\n",
       "      <th>min</th>\n",
       "      <td>1.00000</td>\n",
       "      <td>0.000000</td>\n",
       "      <td>0.000000</td>\n",
       "      <td>9263.640000</td>\n",
       "      <td>0.000000</td>\n",
       "    </tr>\n",
       "    <tr>\n",
       "      <th>25%</th>\n",
       "      <td>2500.75000</td>\n",
       "      <td>0.000000</td>\n",
       "      <td>5780.790000</td>\n",
       "      <td>256085.520000</td>\n",
       "      <td>0.000000</td>\n",
       "    </tr>\n",
       "    <tr>\n",
       "      <th>50%</th>\n",
       "      <td>5000.50000</td>\n",
       "      <td>1.000000</td>\n",
       "      <td>9883.620000</td>\n",
       "      <td>414631.740000</td>\n",
       "      <td>0.000000</td>\n",
       "    </tr>\n",
       "    <tr>\n",
       "      <th>75%</th>\n",
       "      <td>7500.25000</td>\n",
       "      <td>1.000000</td>\n",
       "      <td>13995.660000</td>\n",
       "      <td>525692.760000</td>\n",
       "      <td>0.000000</td>\n",
       "    </tr>\n",
       "    <tr>\n",
       "      <th>max</th>\n",
       "      <td>10000.00000</td>\n",
       "      <td>1.000000</td>\n",
       "      <td>31851.840000</td>\n",
       "      <td>882650.760000</td>\n",
       "      <td>1.000000</td>\n",
       "    </tr>\n",
       "  </tbody>\n",
       "</table>\n",
       "</div>"
      ],
      "text/plain": [
       "             Index      Employed  Bank Balance  Annual Salary    Defaulted?\n",
       "count  10000.00000  10000.000000  10000.000000   10000.000000  10000.000000\n",
       "mean    5000.50000      0.705600  10024.498524  402203.782224      0.033300\n",
       "std     2886.89568      0.455795   5804.579486  160039.674988      0.179428\n",
       "min        1.00000      0.000000      0.000000    9263.640000      0.000000\n",
       "25%     2500.75000      0.000000   5780.790000  256085.520000      0.000000\n",
       "50%     5000.50000      1.000000   9883.620000  414631.740000      0.000000\n",
       "75%     7500.25000      1.000000  13995.660000  525692.760000      0.000000\n",
       "max    10000.00000      1.000000  31851.840000  882650.760000      1.000000"
      ]
     },
     "execution_count": 5,
     "metadata": {},
     "output_type": "execute_result"
    }
   ],
   "source": [
    "data.describe()"
   ]
  },
  {
   "cell_type": "code",
   "execution_count": 6,
   "id": "228dbe7d",
   "metadata": {},
   "outputs": [
    {
     "name": "stdout",
     "output_type": "stream",
     "text": [
      "<class 'pandas.core.frame.DataFrame'>\n",
      "RangeIndex: 10000 entries, 0 to 9999\n",
      "Data columns (total 5 columns):\n",
      " #   Column         Non-Null Count  Dtype  \n",
      "---  ------         --------------  -----  \n",
      " 0   Index          10000 non-null  int64  \n",
      " 1   Employed       10000 non-null  int64  \n",
      " 2   Bank Balance   10000 non-null  float64\n",
      " 3   Annual Salary  10000 non-null  float64\n",
      " 4   Defaulted?     10000 non-null  int64  \n",
      "dtypes: float64(2), int64(3)\n",
      "memory usage: 390.8 KB\n"
     ]
    }
   ],
   "source": [
    "data.info()"
   ]
  },
  {
   "cell_type": "code",
   "execution_count": 7,
   "id": "e2701700",
   "metadata": {},
   "outputs": [
    {
     "data": {
      "text/plain": [
       "Index            0\n",
       "Employed         0\n",
       "Bank Balance     0\n",
       "Annual Salary    0\n",
       "Defaulted?       0\n",
       "dtype: int64"
      ]
     },
     "execution_count": 7,
     "metadata": {},
     "output_type": "execute_result"
    }
   ],
   "source": [
    "# Finding missing values\n",
    "data.isna().sum().sort_values(ascending=False) #there are no missing values"
   ]
  },
  {
   "cell_type": "markdown",
   "id": "fc49e258",
   "metadata": {},
   "source": [
    "## Explanatory Analysis per variable\n",
    "\n",
    "### Descriptive Stats "
   ]
  },
  {
   "cell_type": "markdown",
   "id": "531d1b96",
   "metadata": {},
   "source": [
    "### Employed"
   ]
  },
  {
   "cell_type": "code",
   "execution_count": 8,
   "id": "4f69ad87",
   "metadata": {},
   "outputs": [
    {
     "data": {
      "text/plain": [
       "0       1\n",
       "1       0\n",
       "2       1\n",
       "3       1\n",
       "4       1\n",
       "       ..\n",
       "9995    1\n",
       "9996    1\n",
       "9997    1\n",
       "9998    1\n",
       "9999    0\n",
       "Name: Employed, Length: 10000, dtype: int64"
      ]
     },
     "execution_count": 8,
     "metadata": {},
     "output_type": "execute_result"
    }
   ],
   "source": [
    "data.Employed"
   ]
  },
  {
   "cell_type": "code",
   "execution_count": 9,
   "id": "b4ea3af0",
   "metadata": {},
   "outputs": [
    {
     "data": {
      "text/plain": [
       "2"
      ]
     },
     "execution_count": 9,
     "metadata": {},
     "output_type": "execute_result"
    }
   ],
   "source": [
    "Emp = data.Employed.unique()\n",
    "len(Emp) # it is a binary variable "
   ]
  },
  {
   "cell_type": "code",
   "execution_count": 10,
   "id": "e4e9a0ca",
   "metadata": {},
   "outputs": [
    {
     "data": {
      "text/plain": [
       "1    7056\n",
       "0    2944\n",
       "Name: Employed, dtype: int64"
      ]
     },
     "execution_count": 10,
     "metadata": {},
     "output_type": "execute_result"
    }
   ],
   "source": [
    "# NUmber of employed and Unemployed people \n",
    "\n",
    "Emp_= data.Employed.value_counts()\n",
    "Emp_"
   ]
  },
  {
   "cell_type": "code",
   "execution_count": 11,
   "id": "95633dd7",
   "metadata": {},
   "outputs": [
    {
     "data": {
      "text/plain": [
       "<AxesSubplot:>"
      ]
     },
     "execution_count": 11,
     "metadata": {},
     "output_type": "execute_result"
    },
    {
     "data": {
      "image/png": "[encoded data removed]",
      "text/plain": [
       "<Figure size 432x288 with 1 Axes>"
      ]
     },
     "metadata": {
      "needs_background": "light"
     },
     "output_type": "display_data"
    }
   ],
   "source": [
    "# let's plot this \n",
    "Emp_.plot(kind='barh')"
   ]
  },
  {
   "cell_type": "code",
   "execution_count": 12,
   "id": "6d55efed",
   "metadata": {},
   "outputs": [],
   "source": [
    "Total = 10000\n",
    "N_Employed = 7056\n",
    "N_Unemp = 2944"
   ]
  },
  {
   "cell_type": "code",
   "execution_count": 13,
   "id": "a3c500ed",
   "metadata": {},
   "outputs": [
    {
     "data": {
      "text/plain": [
       "70.56"
      ]
     },
     "execution_count": 13,
     "metadata": {},
     "output_type": "execute_result"
    }
   ],
   "source": [
    "N_Employed / Total * 100"
   ]
  },
  {
   "cell_type": "code",
   "execution_count": 14,
   "id": "24f1ca83",
   "metadata": {},
   "outputs": [
    {
     "data": {
      "text/plain": [
       "29.439999999999998"
      ]
     },
     "execution_count": 14,
     "metadata": {},
     "output_type": "execute_result"
    }
   ],
   "source": [
    "N_Unemp / Total * 100"
   ]
  },
  {
   "cell_type": "code",
   "execution_count": 15,
   "id": "57f60886",
   "metadata": {},
   "outputs": [
    {
     "name": "stdout",
     "output_type": "stream",
     "text": [
      "Defaulted?  Employed\n",
      "0           0           2817\n",
      "            1           6850\n",
      "1           0            127\n",
      "            1            206\n",
      "Name: Index, dtype: int64\n"
     ]
    }
   ],
   "source": [
    "data_groupby = data.groupby(['Defaulted?','Employed'])['Index'].count()\n",
    "# - 1 Employed\n",
    "# - 0 Unemployed\n",
    "\n",
    "# - 1 Defaulted\n",
    "# - Not Defaulted\n",
    "print(data_groupby)"
   ]
  },
  {
   "cell_type": "markdown",
   "id": "798bddc1",
   "metadata": {},
   "source": [
    "#### 2817 did not default although are classified as unemployed \n",
    "#### 6850 did not default and are classified as employed \n",
    "#### 206 defaulted although they were classified as employed and 127 defaulted and were classified as unemployed \n",
    "\n",
    "#### It is interesting that among those who defaulted the majority are those classified as employed. "
   ]
  },
  {
   "cell_type": "markdown",
   "id": "a7b932a3",
   "metadata": {},
   "source": [
    "### Bank Balance"
   ]
  },
  {
   "cell_type": "code",
   "execution_count": 16,
   "id": "d43904d9",
   "metadata": {},
   "outputs": [
    {
     "data": {
      "text/plain": [
       "Index(['Index', 'Employed', 'Bank Balance', 'Annual Salary', 'Defaulted?'], dtype='object')"
      ]
     },
     "execution_count": 16,
     "metadata": {},
     "output_type": "execute_result"
    }
   ],
   "source": [
    "data.columns"
   ]
  },
  {
   "cell_type": "code",
   "execution_count": 17,
   "id": "17220f4d",
   "metadata": {},
   "outputs": [
    {
     "data": {
      "text/plain": [
       "0        8754.36\n",
       "1        9806.16\n",
       "2       12882.60\n",
       "3        6351.00\n",
       "4        9427.92\n",
       "          ...   \n",
       "9995     8538.72\n",
       "9996     9095.52\n",
       "9997    10144.92\n",
       "9998    18828.12\n",
       "9999     2411.04\n",
       "Name: Bank Balance, Length: 10000, dtype: float64"
      ]
     },
     "execution_count": 17,
     "metadata": {},
     "output_type": "execute_result"
    }
   ],
   "source": [
    "data['Bank Balance'] #Because of the space "
   ]
  },
  {
   "cell_type": "code",
   "execution_count": 18,
   "id": "1329c8ff",
   "metadata": {},
   "outputs": [
    {
     "data": {
      "text/plain": [
       "count    10000.000000\n",
       "mean     10024.498524\n",
       "std       5804.579486\n",
       "min          0.000000\n",
       "25%       5780.790000\n",
       "50%       9883.620000\n",
       "75%      13995.660000\n",
       "max      31851.840000\n",
       "Name: Bank Balance, dtype: float64"
      ]
     },
     "execution_count": 18,
     "metadata": {},
     "output_type": "execute_result"
    }
   ],
   "source": [
    "data['Bank Balance'].describe()"
   ]
  },
  {
   "cell_type": "code",
   "execution_count": 19,
   "id": "dccaa4ca",
   "metadata": {},
   "outputs": [],
   "source": [
    "# The average account balance for this dataset is 10024 with a std deviation of 5804"
   ]
  },
  {
   "cell_type": "code",
   "execution_count": 20,
   "id": "862baa63",
   "metadata": {},
   "outputs": [],
   "source": [
    "# divide the people into high income and low income\n",
    "high_B_balance = data['Bank Balance'] >= 10025 \n",
    "low_B_balance = data['Bank Balance'] < 10025"
   ]
  },
  {
   "cell_type": "code",
   "execution_count": 21,
   "id": "00050d8f",
   "metadata": {},
   "outputs": [
    {
     "data": {
      "text/plain": [
       "False    5093\n",
       "True     4907\n",
       "Name: Bank Balance, dtype: int64"
      ]
     },
     "execution_count": 21,
     "metadata": {},
     "output_type": "execute_result"
    }
   ],
   "source": [
    "H_Balance = high_B_balance.value_counts()\n",
    "H_Balance"
   ]
  },
  {
   "cell_type": "code",
   "execution_count": 22,
   "id": "84206bae",
   "metadata": {},
   "outputs": [],
   "source": [
    "# 4907 people do have a 'high banl balance' of >= 10025\n",
    "# 5093 do not"
   ]
  },
  {
   "cell_type": "code",
   "execution_count": 23,
   "id": "6406d257",
   "metadata": {},
   "outputs": [
    {
     "name": "stdout",
     "output_type": "stream",
     "text": [
      "0       False\n",
      "1       False\n",
      "2        True\n",
      "3       False\n",
      "4       False\n",
      "        ...  \n",
      "9995    False\n",
      "9996    False\n",
      "9997     True\n",
      "9998     True\n",
      "9999    False\n",
      "Name: High_or_Low_Balance, Length: 10000, dtype: bool\n"
     ]
    }
   ],
   "source": [
    "# let's create a new column with theses values = having a balance >= 10025 or < (this will have a binary value)\n",
    "data['High_or_Low_Balance'] = high_B_balance\n",
    "print(data['High_or_Low_Balance'])"
   ]
  },
  {
   "cell_type": "code",
   "execution_count": 24,
   "id": "7bf66600",
   "metadata": {},
   "outputs": [
    {
     "data": {
      "text/plain": [
       "Index(['Index', 'Employed', 'Bank Balance', 'Annual Salary', 'Defaulted?',\n",
       "       'High_or_Low_Balance'],\n",
       "      dtype='object')"
      ]
     },
     "execution_count": 24,
     "metadata": {},
     "output_type": "execute_result"
    }
   ],
   "source": [
    "data.columns"
   ]
  },
  {
   "cell_type": "code",
   "execution_count": 25,
   "id": "d8370184",
   "metadata": {},
   "outputs": [
    {
     "data": {
      "text/html": [
       "<div>\n",
       "<style scoped>\n",
       "    .dataframe tbody tr th:only-of-type {\n",
       "        vertical-align: middle;\n",
       "    }\n",
       "\n",
       "    .dataframe tbody tr th {\n",
       "        vertical-align: top;\n",
       "    }\n",
       "\n",
       "    .dataframe thead th {\n",
       "        text-align: right;\n",
       "    }\n",
       "</style>\n",
       "<table border=\"1\" class=\"dataframe\">\n",
       "  <thead>\n",
       "    <tr style=\"text-align: right;\">\n",
       "      <th></th>\n",
       "      <th>Index</th>\n",
       "      <th>Employed</th>\n",
       "      <th>Bank Balance</th>\n",
       "      <th>Annual Salary</th>\n",
       "      <th>Defaulted?</th>\n",
       "      <th>High_or_Low_Balance</th>\n",
       "    </tr>\n",
       "  </thead>\n",
       "  <tbody>\n",
       "    <tr>\n",
       "      <th>0</th>\n",
       "      <td>1</td>\n",
       "      <td>1</td>\n",
       "      <td>8754.36</td>\n",
       "      <td>532339.56</td>\n",
       "      <td>0</td>\n",
       "      <td>False</td>\n",
       "    </tr>\n",
       "    <tr>\n",
       "      <th>1</th>\n",
       "      <td>2</td>\n",
       "      <td>0</td>\n",
       "      <td>9806.16</td>\n",
       "      <td>145273.56</td>\n",
       "      <td>0</td>\n",
       "      <td>False</td>\n",
       "    </tr>\n",
       "    <tr>\n",
       "      <th>2</th>\n",
       "      <td>3</td>\n",
       "      <td>1</td>\n",
       "      <td>12882.60</td>\n",
       "      <td>381205.68</td>\n",
       "      <td>0</td>\n",
       "      <td>True</td>\n",
       "    </tr>\n",
       "    <tr>\n",
       "      <th>3</th>\n",
       "      <td>4</td>\n",
       "      <td>1</td>\n",
       "      <td>6351.00</td>\n",
       "      <td>428453.88</td>\n",
       "      <td>0</td>\n",
       "      <td>False</td>\n",
       "    </tr>\n",
       "    <tr>\n",
       "      <th>4</th>\n",
       "      <td>5</td>\n",
       "      <td>1</td>\n",
       "      <td>9427.92</td>\n",
       "      <td>461562.00</td>\n",
       "      <td>0</td>\n",
       "      <td>False</td>\n",
       "    </tr>\n",
       "    <tr>\n",
       "      <th>...</th>\n",
       "      <td>...</td>\n",
       "      <td>...</td>\n",
       "      <td>...</td>\n",
       "      <td>...</td>\n",
       "      <td>...</td>\n",
       "      <td>...</td>\n",
       "    </tr>\n",
       "    <tr>\n",
       "      <th>9995</th>\n",
       "      <td>9996</td>\n",
       "      <td>1</td>\n",
       "      <td>8538.72</td>\n",
       "      <td>635908.56</td>\n",
       "      <td>0</td>\n",
       "      <td>False</td>\n",
       "    </tr>\n",
       "    <tr>\n",
       "      <th>9996</th>\n",
       "      <td>9997</td>\n",
       "      <td>1</td>\n",
       "      <td>9095.52</td>\n",
       "      <td>235928.64</td>\n",
       "      <td>0</td>\n",
       "      <td>False</td>\n",
       "    </tr>\n",
       "    <tr>\n",
       "      <th>9997</th>\n",
       "      <td>9998</td>\n",
       "      <td>1</td>\n",
       "      <td>10144.92</td>\n",
       "      <td>703633.92</td>\n",
       "      <td>0</td>\n",
       "      <td>True</td>\n",
       "    </tr>\n",
       "    <tr>\n",
       "      <th>9998</th>\n",
       "      <td>9999</td>\n",
       "      <td>1</td>\n",
       "      <td>18828.12</td>\n",
       "      <td>440029.32</td>\n",
       "      <td>0</td>\n",
       "      <td>True</td>\n",
       "    </tr>\n",
       "    <tr>\n",
       "      <th>9999</th>\n",
       "      <td>10000</td>\n",
       "      <td>0</td>\n",
       "      <td>2411.04</td>\n",
       "      <td>202355.40</td>\n",
       "      <td>0</td>\n",
       "      <td>False</td>\n",
       "    </tr>\n",
       "  </tbody>\n",
       "</table>\n",
       "<p>10000 rows × 6 columns</p>\n",
       "</div>"
      ],
      "text/plain": [
       "      Index  Employed  Bank Balance  Annual Salary  Defaulted?  \\\n",
       "0         1         1       8754.36      532339.56           0   \n",
       "1         2         0       9806.16      145273.56           0   \n",
       "2         3         1      12882.60      381205.68           0   \n",
       "3         4         1       6351.00      428453.88           0   \n",
       "4         5         1       9427.92      461562.00           0   \n",
       "...     ...       ...           ...            ...         ...   \n",
       "9995   9996         1       8538.72      635908.56           0   \n",
       "9996   9997         1       9095.52      235928.64           0   \n",
       "9997   9998         1      10144.92      703633.92           0   \n",
       "9998   9999         1      18828.12      440029.32           0   \n",
       "9999  10000         0       2411.04      202355.40           0   \n",
       "\n",
       "      High_or_Low_Balance  \n",
       "0                   False  \n",
       "1                   False  \n",
       "2                    True  \n",
       "3                   False  \n",
       "4                   False  \n",
       "...                   ...  \n",
       "9995                False  \n",
       "9996                False  \n",
       "9997                 True  \n",
       "9998                 True  \n",
       "9999                False  \n",
       "\n",
       "[10000 rows x 6 columns]"
      ]
     },
     "execution_count": 25,
     "metadata": {},
     "output_type": "execute_result"
    }
   ],
   "source": [
    "data"
   ]
  },
  {
   "cell_type": "code",
   "execution_count": 26,
   "id": "8a4a9ff8",
   "metadata": {},
   "outputs": [],
   "source": [
    "data['High_or_Low_Balance'] = data['High_or_Low_Balance'].astype(int)"
   ]
  },
  {
   "cell_type": "code",
   "execution_count": 27,
   "id": "5da93d09",
   "metadata": {},
   "outputs": [
    {
     "data": {
      "text/plain": [
       "0       0\n",
       "1       0\n",
       "2       1\n",
       "3       0\n",
       "4       0\n",
       "       ..\n",
       "9995    0\n",
       "9996    0\n",
       "9997    1\n",
       "9998    1\n",
       "9999    0\n",
       "Name: High_or_Low_Balance, Length: 10000, dtype: int32"
      ]
     },
     "execution_count": 27,
     "metadata": {},
     "output_type": "execute_result"
    }
   ],
   "source": [
    "data['High_or_Low_Balance']"
   ]
  },
  {
   "cell_type": "code",
   "execution_count": 28,
   "id": "b798ad8f",
   "metadata": {},
   "outputs": [
    {
     "name": "stdout",
     "output_type": "stream",
     "text": [
      "      Index  Employed  Bank Balance  Annual Salary  Defaulted?  \\\n",
      "0         1         1       8754.36      532339.56           0   \n",
      "1         2         0       9806.16      145273.56           0   \n",
      "2         3         1      12882.60      381205.68           0   \n",
      "3         4         1       6351.00      428453.88           0   \n",
      "4         5         1       9427.92      461562.00           0   \n",
      "...     ...       ...           ...            ...         ...   \n",
      "9995   9996         1       8538.72      635908.56           0   \n",
      "9996   9997         1       9095.52      235928.64           0   \n",
      "9997   9998         1      10144.92      703633.92           0   \n",
      "9998   9999         1      18828.12      440029.32           0   \n",
      "9999  10000         0       2411.04      202355.40           0   \n",
      "\n",
      "      High_or_Low_Balance  \n",
      "0                       0  \n",
      "1                       0  \n",
      "2                       1  \n",
      "3                       0  \n",
      "4                       0  \n",
      "...                   ...  \n",
      "9995                    0  \n",
      "9996                    0  \n",
      "9997                    1  \n",
      "9998                    1  \n",
      "9999                    0  \n",
      "\n",
      "[10000 rows x 6 columns]\n"
     ]
    }
   ],
   "source": [
    "# Make sure there's no missing values within the dataset. \n",
    "data.dropna(axis=1, how='any', thresh=None, subset=None, inplace=False)\n",
    "print(data)"
   ]
  },
  {
   "cell_type": "code",
   "execution_count": 29,
   "id": "4b5ed17f",
   "metadata": {},
   "outputs": [
    {
     "name": "stdout",
     "output_type": "stream",
     "text": [
      "Defaulted?  High_or_Low_Balance\n",
      "0           0                      5090\n",
      "            1                      4577\n",
      "1           0                         3\n",
      "            1                       330\n",
      "Name: Index, dtype: int64\n"
     ]
    }
   ],
   "source": [
    "data_groupby = data.groupby(['Defaulted?','High_or_Low_Balance'])['Index'].count()\n",
    "print(data_groupby)\n",
    "# - 0 = low balance (Bank Balance lower than the average of 10025)\n",
    "# - 1 = High Balance (Bank Balance higher than or equal to the average of 10025)"
   ]
  },
  {
   "cell_type": "markdown",
   "id": "106991c9",
   "metadata": {},
   "source": [
    "#### 330 defaulted although they had a Bank Balance avobe or equal to the average of 10025 "
   ]
  },
  {
   "cell_type": "markdown",
   "id": "1643b5f3",
   "metadata": {},
   "source": [
    "### \tAnnual Salary"
   ]
  },
  {
   "cell_type": "code",
   "execution_count": 30,
   "id": "06789478",
   "metadata": {},
   "outputs": [
    {
     "data": {
      "text/plain": [
       "0       532339.56\n",
       "1       145273.56\n",
       "2       381205.68\n",
       "3       428453.88\n",
       "4       461562.00\n",
       "          ...    \n",
       "9995    635908.56\n",
       "9996    235928.64\n",
       "9997    703633.92\n",
       "9998    440029.32\n",
       "9999    202355.40\n",
       "Name: Annual Salary, Length: 10000, dtype: float64"
      ]
     },
     "execution_count": 30,
     "metadata": {},
     "output_type": "execute_result"
    }
   ],
   "source": [
    "data['Annual Salary']"
   ]
  },
  {
   "cell_type": "code",
   "execution_count": 31,
   "id": "84c7c878",
   "metadata": {},
   "outputs": [
    {
     "data": {
      "text/plain": [
       "count     10000.000000\n",
       "mean     402203.782224\n",
       "std      160039.674988\n",
       "min        9263.640000\n",
       "25%      256085.520000\n",
       "50%      414631.740000\n",
       "75%      525692.760000\n",
       "max      882650.760000\n",
       "Name: Annual Salary, dtype: float64"
      ]
     },
     "execution_count": 31,
     "metadata": {},
     "output_type": "execute_result"
    }
   ],
   "source": [
    "data['Annual Salary'].describe()"
   ]
  },
  {
   "cell_type": "code",
   "execution_count": 32,
   "id": "75980ee6",
   "metadata": {},
   "outputs": [],
   "source": [
    "# we can see that the average salary is 402203.  "
   ]
  },
  {
   "cell_type": "code",
   "execution_count": 33,
   "id": "2318acbe",
   "metadata": {},
   "outputs": [],
   "source": [
    "# divide the people into high income and low income\n",
    "high_income = data['Annual Salary'] >= 402203 \n",
    "low_income = data['Annual Salary'] < 402203"
   ]
  },
  {
   "cell_type": "code",
   "execution_count": 34,
   "id": "b254b6f2",
   "metadata": {},
   "outputs": [
    {
     "data": {
      "text/plain": [
       "True     5264\n",
       "False    4736\n",
       "Name: Annual Salary, dtype: int64"
      ]
     },
     "execution_count": 34,
     "metadata": {},
     "output_type": "execute_result"
    }
   ],
   "source": [
    "High_Income = high_income.value_counts()\n",
    "High_Income"
   ]
  },
  {
   "cell_type": "code",
   "execution_count": 35,
   "id": "6e0d80e7",
   "metadata": {},
   "outputs": [
    {
     "name": "stdout",
     "output_type": "stream",
     "text": [
      "0        True\n",
      "1       False\n",
      "2       False\n",
      "3        True\n",
      "4        True\n",
      "        ...  \n",
      "9995     True\n",
      "9996    False\n",
      "9997     True\n",
      "9998     True\n",
      "9999    False\n",
      "Name: high_income, Length: 10000, dtype: bool\n"
     ]
    }
   ],
   "source": [
    "# let's create a new column with theses values = having a balance >= 402203 or < (this will have a binary value)\n",
    "data['high_income'] = high_income\n",
    "print(data['high_income'])"
   ]
  },
  {
   "cell_type": "code",
   "execution_count": 36,
   "id": "8840cbca",
   "metadata": {},
   "outputs": [
    {
     "data": {
      "text/html": [
       "<div>\n",
       "<style scoped>\n",
       "    .dataframe tbody tr th:only-of-type {\n",
       "        vertical-align: middle;\n",
       "    }\n",
       "\n",
       "    .dataframe tbody tr th {\n",
       "        vertical-align: top;\n",
       "    }\n",
       "\n",
       "    .dataframe thead th {\n",
       "        text-align: right;\n",
       "    }\n",
       "</style>\n",
       "<table border=\"1\" class=\"dataframe\">\n",
       "  <thead>\n",
       "    <tr style=\"text-align: right;\">\n",
       "      <th></th>\n",
       "      <th>Index</th>\n",
       "      <th>Employed</th>\n",
       "      <th>Bank Balance</th>\n",
       "      <th>Annual Salary</th>\n",
       "      <th>Defaulted?</th>\n",
       "      <th>High_or_Low_Balance</th>\n",
       "      <th>high_income</th>\n",
       "    </tr>\n",
       "  </thead>\n",
       "  <tbody>\n",
       "    <tr>\n",
       "      <th>0</th>\n",
       "      <td>1</td>\n",
       "      <td>1</td>\n",
       "      <td>8754.36</td>\n",
       "      <td>532339.56</td>\n",
       "      <td>0</td>\n",
       "      <td>0</td>\n",
       "      <td>True</td>\n",
       "    </tr>\n",
       "    <tr>\n",
       "      <th>1</th>\n",
       "      <td>2</td>\n",
       "      <td>0</td>\n",
       "      <td>9806.16</td>\n",
       "      <td>145273.56</td>\n",
       "      <td>0</td>\n",
       "      <td>0</td>\n",
       "      <td>False</td>\n",
       "    </tr>\n",
       "    <tr>\n",
       "      <th>2</th>\n",
       "      <td>3</td>\n",
       "      <td>1</td>\n",
       "      <td>12882.60</td>\n",
       "      <td>381205.68</td>\n",
       "      <td>0</td>\n",
       "      <td>1</td>\n",
       "      <td>False</td>\n",
       "    </tr>\n",
       "    <tr>\n",
       "      <th>3</th>\n",
       "      <td>4</td>\n",
       "      <td>1</td>\n",
       "      <td>6351.00</td>\n",
       "      <td>428453.88</td>\n",
       "      <td>0</td>\n",
       "      <td>0</td>\n",
       "      <td>True</td>\n",
       "    </tr>\n",
       "    <tr>\n",
       "      <th>4</th>\n",
       "      <td>5</td>\n",
       "      <td>1</td>\n",
       "      <td>9427.92</td>\n",
       "      <td>461562.00</td>\n",
       "      <td>0</td>\n",
       "      <td>0</td>\n",
       "      <td>True</td>\n",
       "    </tr>\n",
       "    <tr>\n",
       "      <th>...</th>\n",
       "      <td>...</td>\n",
       "      <td>...</td>\n",
       "      <td>...</td>\n",
       "      <td>...</td>\n",
       "      <td>...</td>\n",
       "      <td>...</td>\n",
       "      <td>...</td>\n",
       "    </tr>\n",
       "    <tr>\n",
       "      <th>9995</th>\n",
       "      <td>9996</td>\n",
       "      <td>1</td>\n",
       "      <td>8538.72</td>\n",
       "      <td>635908.56</td>\n",
       "      <td>0</td>\n",
       "      <td>0</td>\n",
       "      <td>True</td>\n",
       "    </tr>\n",
       "    <tr>\n",
       "      <th>9996</th>\n",
       "      <td>9997</td>\n",
       "      <td>1</td>\n",
       "      <td>9095.52</td>\n",
       "      <td>235928.64</td>\n",
       "      <td>0</td>\n",
       "      <td>0</td>\n",
       "      <td>False</td>\n",
       "    </tr>\n",
       "    <tr>\n",
       "      <th>9997</th>\n",
       "      <td>9998</td>\n",
       "      <td>1</td>\n",
       "      <td>10144.92</td>\n",
       "      <td>703633.92</td>\n",
       "      <td>0</td>\n",
       "      <td>1</td>\n",
       "      <td>True</td>\n",
       "    </tr>\n",
       "    <tr>\n",
       "      <th>9998</th>\n",
       "      <td>9999</td>\n",
       "      <td>1</td>\n",
       "      <td>18828.12</td>\n",
       "      <td>440029.32</td>\n",
       "      <td>0</td>\n",
       "      <td>1</td>\n",
       "      <td>True</td>\n",
       "    </tr>\n",
       "    <tr>\n",
       "      <th>9999</th>\n",
       "      <td>10000</td>\n",
       "      <td>0</td>\n",
       "      <td>2411.04</td>\n",
       "      <td>202355.40</td>\n",
       "      <td>0</td>\n",
       "      <td>0</td>\n",
       "      <td>False</td>\n",
       "    </tr>\n",
       "  </tbody>\n",
       "</table>\n",
       "<p>10000 rows × 7 columns</p>\n",
       "</div>"
      ],
      "text/plain": [
       "      Index  Employed  Bank Balance  Annual Salary  Defaulted?  \\\n",
       "0         1         1       8754.36      532339.56           0   \n",
       "1         2         0       9806.16      145273.56           0   \n",
       "2         3         1      12882.60      381205.68           0   \n",
       "3         4         1       6351.00      428453.88           0   \n",
       "4         5         1       9427.92      461562.00           0   \n",
       "...     ...       ...           ...            ...         ...   \n",
       "9995   9996         1       8538.72      635908.56           0   \n",
       "9996   9997         1       9095.52      235928.64           0   \n",
       "9997   9998         1      10144.92      703633.92           0   \n",
       "9998   9999         1      18828.12      440029.32           0   \n",
       "9999  10000         0       2411.04      202355.40           0   \n",
       "\n",
       "      High_or_Low_Balance  high_income  \n",
       "0                       0         True  \n",
       "1                       0        False  \n",
       "2                       1        False  \n",
       "3                       0         True  \n",
       "4                       0         True  \n",
       "...                   ...          ...  \n",
       "9995                    0         True  \n",
       "9996                    0        False  \n",
       "9997                    1         True  \n",
       "9998                    1         True  \n",
       "9999                    0        False  \n",
       "\n",
       "[10000 rows x 7 columns]"
      ]
     },
     "execution_count": 36,
     "metadata": {},
     "output_type": "execute_result"
    }
   ],
   "source": [
    "data"
   ]
  },
  {
   "cell_type": "code",
   "execution_count": 37,
   "id": "049452bf",
   "metadata": {},
   "outputs": [
    {
     "name": "stdout",
     "output_type": "stream",
     "text": [
      "      Index  Employed  Bank Balance  Annual Salary  Defaulted?  \\\n",
      "0         1         1       8754.36      532339.56           0   \n",
      "1         2         0       9806.16      145273.56           0   \n",
      "2         3         1      12882.60      381205.68           0   \n",
      "3         4         1       6351.00      428453.88           0   \n",
      "4         5         1       9427.92      461562.00           0   \n",
      "...     ...       ...           ...            ...         ...   \n",
      "9995   9996         1       8538.72      635908.56           0   \n",
      "9996   9997         1       9095.52      235928.64           0   \n",
      "9997   9998         1      10144.92      703633.92           0   \n",
      "9998   9999         1      18828.12      440029.32           0   \n",
      "9999  10000         0       2411.04      202355.40           0   \n",
      "\n",
      "      High_or_Low_Balance  high_income  \n",
      "0                       0            1  \n",
      "1                       0            0  \n",
      "2                       1            0  \n",
      "3                       0            1  \n",
      "4                       0            1  \n",
      "...                   ...          ...  \n",
      "9995                    0            1  \n",
      "9996                    0            0  \n",
      "9997                    1            1  \n",
      "9998                    1            1  \n",
      "9999                    0            0  \n",
      "\n",
      "[10000 rows x 7 columns]\n"
     ]
    }
   ],
   "source": [
    "data['high_income'] = data['high_income'].astype(int)\n",
    "# 1 = True => 402203\n",
    "# 0 = False < 402203\n",
    "print(data)"
   ]
  },
  {
   "cell_type": "code",
   "execution_count": 38,
   "id": "b064236e",
   "metadata": {},
   "outputs": [
    {
     "name": "stdout",
     "output_type": "stream",
     "text": [
      "Defaulted?  high_income\n",
      "0           0              4561\n",
      "            1              5106\n",
      "1           0               175\n",
      "            1               158\n",
      "Name: Index, dtype: int64\n"
     ]
    }
   ],
   "source": [
    "data_groupby = data.groupby(['Defaulted?','high_income'])['Index'].count()\n",
    "print(data_groupby)\n",
    "# - 0 = low income (=> 402203)\n",
    "# - 1 = High Income (< 402203)"
   ]
  },
  {
   "cell_type": "markdown",
   "id": "38b3b18f",
   "metadata": {},
   "source": [
    "#### 158 of those who defaulted had an annual salary above the average of approx. 402k and 175 below. "
   ]
  },
  {
   "cell_type": "markdown",
   "id": "c1db3e2b",
   "metadata": {},
   "source": [
    "### Defaulted"
   ]
  },
  {
   "cell_type": "code",
   "execution_count": 39,
   "id": "704fd2fa",
   "metadata": {},
   "outputs": [
    {
     "data": {
      "text/plain": [
       "0       0\n",
       "1       0\n",
       "2       0\n",
       "3       0\n",
       "4       0\n",
       "       ..\n",
       "9995    0\n",
       "9996    0\n",
       "9997    0\n",
       "9998    0\n",
       "9999    0\n",
       "Name: Defaulted?, Length: 10000, dtype: int64"
      ]
     },
     "execution_count": 39,
     "metadata": {},
     "output_type": "execute_result"
    }
   ],
   "source": [
    "data['Defaulted?'] "
   ]
  },
  {
   "cell_type": "code",
   "execution_count": 40,
   "id": "e9d20289",
   "metadata": {},
   "outputs": [
    {
     "data": {
      "text/plain": [
       "0    9667\n",
       "1     333\n",
       "Name: Defaulted?, dtype: int64"
      ]
     },
     "execution_count": 40,
     "metadata": {},
     "output_type": "execute_result"
    }
   ],
   "source": [
    "# NUmber of employed and Unemployed people \n",
    "\n",
    "Def = data['Defaulted?'].value_counts()\n",
    "Def"
   ]
  },
  {
   "cell_type": "code",
   "execution_count": 41,
   "id": "e3135155",
   "metadata": {},
   "outputs": [],
   "source": [
    "Total = 10000\n",
    "Not_Defaulted = 9667\n",
    "Defaulted = 333"
   ]
  },
  {
   "cell_type": "code",
   "execution_count": 42,
   "id": "38ff4bba",
   "metadata": {},
   "outputs": [
    {
     "data": {
      "text/plain": [
       "3.3300000000000005"
      ]
     },
     "execution_count": 42,
     "metadata": {},
     "output_type": "execute_result"
    }
   ],
   "source": [
    "Defaulted / Total *100"
   ]
  },
  {
   "cell_type": "code",
   "execution_count": 43,
   "id": "b4d3d2d0",
   "metadata": {},
   "outputs": [
    {
     "data": {
      "text/plain": [
       "<AxesSubplot:>"
      ]
     },
     "execution_count": 43,
     "metadata": {},
     "output_type": "execute_result"
    },
    {
     "data": {
      "image/png": "[encoded data removed]",
      "text/plain": [
       "<Figure size 432x288 with 1 Axes>"
      ]
     },
     "metadata": {
      "needs_background": "light"
     },
     "output_type": "display_data"
    }
   ],
   "source": [
    "Def.plot(kind='barh')"
   ]
  },
  {
   "cell_type": "markdown",
   "id": "82591a29",
   "metadata": {},
   "source": [
    "#### from the total dataset only 3.33% defaulted on theur loans, which is equal to 333 account holders. However, despite the relative\n",
    "#### low percentage no assumptions can be made as we do not know the granularity of those defaults. "
   ]
  },
  {
   "cell_type": "markdown",
   "id": "d60e75d6",
   "metadata": {},
   "source": [
    "### Create a Logistic Regression model to predict future credit defaults "
   ]
  },
  {
   "cell_type": "code",
   "execution_count": 44,
   "id": "5343fc47",
   "metadata": {},
   "outputs": [
    {
     "name": "stderr",
     "output_type": "stream",
     "text": [
      "C:\\Users\\andre\\anaconda3\\lib\\site-packages\\scipy\\__init__.py:146: UserWarning: A NumPy version >=1.16.5 and <1.23.0 is required for this version of SciPy (detected version 1.23.1\n",
      "  warnings.warn(f\"A NumPy version >={np_minversion} and <{np_maxversion}\"\n"
     ]
    }
   ],
   "source": [
    "import pylab as pl\n",
    "import numpy as np\n",
    "import scipy.optimize as opt\n",
    "%matplotlib inline\n",
    "import matplotlib.pyplot as plt\n",
    "from sklearn import linear_model\n",
    "from sklearn import preprocessing\n",
    "from sklearn.metrics import classification_report "
   ]
  },
  {
   "cell_type": "code",
   "execution_count": 45,
   "id": "7b366883",
   "metadata": {},
   "outputs": [],
   "source": [
    "# Initialise the regression model\n",
    "LR = linear_model.LogisticRegression(solver = 'lbfgs')"
   ]
  },
  {
   "cell_type": "code",
   "execution_count": 46,
   "id": "375b792e",
   "metadata": {},
   "outputs": [
    {
     "data": {
      "text/plain": [
       "Index(['Index', 'Employed', 'Bank Balance', 'Annual Salary', 'Defaulted?',\n",
       "       'High_or_Low_Balance', 'high_income'],\n",
       "      dtype='object')"
      ]
     },
     "execution_count": 46,
     "metadata": {},
     "output_type": "execute_result"
    }
   ],
   "source": [
    "data.columns"
   ]
  },
  {
   "cell_type": "code",
   "execution_count": 47,
   "id": "5a1c925a",
   "metadata": {},
   "outputs": [
    {
     "data": {
      "text/plain": [
       "array([[1.0000000e+00, 8.7543600e+03, 5.3233956e+05, 0.0000000e+00,\n",
       "        1.0000000e+00],\n",
       "       [0.0000000e+00, 9.8061600e+03, 1.4527356e+05, 0.0000000e+00,\n",
       "        0.0000000e+00],\n",
       "       [1.0000000e+00, 1.2882600e+04, 3.8120568e+05, 1.0000000e+00,\n",
       "        0.0000000e+00],\n",
       "       [1.0000000e+00, 6.3510000e+03, 4.2845388e+05, 0.0000000e+00,\n",
       "        1.0000000e+00],\n",
       "       [1.0000000e+00, 9.4279200e+03, 4.6156200e+05, 0.0000000e+00,\n",
       "        1.0000000e+00]])"
      ]
     },
     "execution_count": 47,
     "metadata": {},
     "output_type": "execute_result"
    }
   ],
   "source": [
    "X = np.asarray(data[['Employed', 'Bank Balance', 'Annual Salary', 'High_or_Low_Balance', 'high_income']])\n",
    "X[0:5]"
   ]
  },
  {
   "cell_type": "code",
   "execution_count": 48,
   "id": "d68daf3a",
   "metadata": {},
   "outputs": [
    {
     "data": {
      "text/plain": [
       "array([0, 0, 0, 0, 0], dtype=int64)"
      ]
     },
     "execution_count": 48,
     "metadata": {},
     "output_type": "execute_result"
    }
   ],
   "source": [
    "y = np.asarray(data['Defaulted?'])\n",
    "y[0:5]"
   ]
  },
  {
   "cell_type": "code",
   "execution_count": 49,
   "id": "54632ec8",
   "metadata": {},
   "outputs": [
    {
     "data": {
      "text/plain": [
       "LogisticRegression()"
      ]
     },
     "execution_count": 49,
     "metadata": {},
     "output_type": "execute_result"
    }
   ],
   "source": [
    "# Train the model\n",
    "LR.fit(X, y)"
   ]
  },
  {
   "cell_type": "code",
   "execution_count": 50,
   "id": "eee30d8b",
   "metadata": {},
   "outputs": [
    {
     "name": "stdout",
     "output_type": "stream",
     "text": [
      "[-9.62633882e-09]\n",
      "[[ 2.72472133e-09  3.39707493e-05 -1.04904107e-05  4.37071083e-10\n",
      "   4.89038338e-09]]\n"
     ]
    }
   ],
   "source": [
    "# Check trained model intercept \n",
    "print(LR.intercept_)\n",
    "\n",
    "# Check trained model coefficients \n",
    "print(LR.coef_)"
   ]
  },
  {
   "cell_type": "markdown",
   "id": "854f097f",
   "metadata": {},
   "source": [
    "#### As we now have the Intercept and the coefficients we can predict our values "
   ]
  },
  {
   "cell_type": "code",
   "execution_count": 51,
   "id": "41c01dd4",
   "metadata": {
    "scrolled": true
   },
   "outputs": [
    {
     "data": {
      "text/html": [
       "<div>\n",
       "<style scoped>\n",
       "    .dataframe tbody tr th:only-of-type {\n",
       "        vertical-align: middle;\n",
       "    }\n",
       "\n",
       "    .dataframe tbody tr th {\n",
       "        vertical-align: top;\n",
       "    }\n",
       "\n",
       "    .dataframe thead th {\n",
       "        text-align: right;\n",
       "    }\n",
       "</style>\n",
       "<table border=\"1\" class=\"dataframe\">\n",
       "  <thead>\n",
       "    <tr style=\"text-align: right;\">\n",
       "      <th>Defaulted?</th>\n",
       "      <th>0</th>\n",
       "      <th>1</th>\n",
       "    </tr>\n",
       "    <tr>\n",
       "      <th>row_0</th>\n",
       "      <th></th>\n",
       "      <th></th>\n",
       "    </tr>\n",
       "  </thead>\n",
       "  <tbody>\n",
       "    <tr>\n",
       "      <th>0</th>\n",
       "      <td>9664</td>\n",
       "      <td>333</td>\n",
       "    </tr>\n",
       "    <tr>\n",
       "      <th>1</th>\n",
       "      <td>3</td>\n",
       "      <td>0</td>\n",
       "    </tr>\n",
       "  </tbody>\n",
       "</table>\n",
       "</div>"
      ],
      "text/plain": [
       "Defaulted?     0    1\n",
       "row_0                \n",
       "0           9664  333\n",
       "1              3    0"
      ]
     },
     "execution_count": 51,
     "metadata": {},
     "output_type": "execute_result"
    }
   ],
   "source": [
    "# Make the prediction\n",
    "Pred = LR.predict(X)\n",
    "\n",
    "# Generate the table \n",
    "pd.crosstab(Pred, data['Defaulted?'])"
   ]
  },
  {
   "cell_type": "code",
   "execution_count": null,
   "id": "45f64b2b",
   "metadata": {},
   "outputs": [],
   "source": []
  },
  {
   "cell_type": "code",
   "execution_count": 52,
   "id": "24413895",
   "metadata": {},
   "outputs": [
    {
     "data": {
      "text/plain": [
       "0.9664"
      ]
     },
     "execution_count": 52,
     "metadata": {},
     "output_type": "execute_result"
    }
   ],
   "source": [
    "# Checking the accuracy of the model\n",
    "LR.score(X, y)"
   ]
  },
  {
   "cell_type": "code",
   "execution_count": 53,
   "id": "98ddbdcc",
   "metadata": {},
   "outputs": [
    {
     "name": "stdout",
     "output_type": "stream",
     "text": [
      "              precision    recall  f1-score   support\n",
      "\n",
      "           0       0.97      1.00      0.98      9667\n",
      "           1       0.00      0.00      0.00       333\n",
      "\n",
      "    accuracy                           0.97     10000\n",
      "   macro avg       0.48      0.50      0.49     10000\n",
      "weighted avg       0.93      0.97      0.95     10000\n",
      "\n"
     ]
    }
   ],
   "source": [
    "print(classification_report(y, Pred))"
   ]
  },
  {
   "cell_type": "code",
   "execution_count": 54,
   "id": "2a3c4a4c",
   "metadata": {},
   "outputs": [],
   "source": [
    "b0 = -9.62633882e-09\n",
    "x1 = 2.72472133e-09\n",
    "x2 = 3.39707493e-05\n",
    "x3 = -1.04904107e-05\n",
    "x4 = 4.37071083e-10\n",
    "x5 = 4.89038338e-09\n",
    "e = 2.718281"
   ]
  },
  {
   "cell_type": "code",
   "execution_count": 56,
   "id": "d8130bee",
   "metadata": {},
   "outputs": [],
   "source": [
    "Y_PRE = e**(b0+1*x1+6000*x2+500000*x3+1*x4+1*x5) / 1 + e**(b0+1*x1+6000*x2+500000*x3+1*x4+1*x5)"
   ]
  },
  {
   "cell_type": "code",
   "execution_count": 57,
   "id": "cc7ae0f3",
   "metadata": {},
   "outputs": [
    {
     "data": {
      "text/plain": [
       "0.01292965021540732"
      ]
     },
     "execution_count": 57,
     "metadata": {},
     "output_type": "execute_result"
    }
   ],
   "source": [
    "Y_PRE"
   ]
  },
  {
   "cell_type": "code",
   "execution_count": 58,
   "id": "bd073a8a",
   "metadata": {},
   "outputs": [
    {
     "data": {
      "text/html": [
       "<div>\n",
       "<style scoped>\n",
       "    .dataframe tbody tr th:only-of-type {\n",
       "        vertical-align: middle;\n",
       "    }\n",
       "\n",
       "    .dataframe tbody tr th {\n",
       "        vertical-align: top;\n",
       "    }\n",
       "\n",
       "    .dataframe thead th {\n",
       "        text-align: right;\n",
       "    }\n",
       "</style>\n",
       "<table border=\"1\" class=\"dataframe\">\n",
       "  <thead>\n",
       "    <tr style=\"text-align: right;\">\n",
       "      <th></th>\n",
       "      <th>Index</th>\n",
       "      <th>Employed</th>\n",
       "      <th>Bank Balance</th>\n",
       "      <th>Annual Salary</th>\n",
       "      <th>Defaulted?</th>\n",
       "      <th>High_or_Low_Balance</th>\n",
       "      <th>high_income</th>\n",
       "    </tr>\n",
       "  </thead>\n",
       "  <tbody>\n",
       "    <tr>\n",
       "      <th>0</th>\n",
       "      <td>1</td>\n",
       "      <td>1</td>\n",
       "      <td>8754.36</td>\n",
       "      <td>532339.56</td>\n",
       "      <td>0</td>\n",
       "      <td>0</td>\n",
       "      <td>1</td>\n",
       "    </tr>\n",
       "    <tr>\n",
       "      <th>1</th>\n",
       "      <td>2</td>\n",
       "      <td>0</td>\n",
       "      <td>9806.16</td>\n",
       "      <td>145273.56</td>\n",
       "      <td>0</td>\n",
       "      <td>0</td>\n",
       "      <td>0</td>\n",
       "    </tr>\n",
       "    <tr>\n",
       "      <th>2</th>\n",
       "      <td>3</td>\n",
       "      <td>1</td>\n",
       "      <td>12882.60</td>\n",
       "      <td>381205.68</td>\n",
       "      <td>0</td>\n",
       "      <td>1</td>\n",
       "      <td>0</td>\n",
       "    </tr>\n",
       "    <tr>\n",
       "      <th>3</th>\n",
       "      <td>4</td>\n",
       "      <td>1</td>\n",
       "      <td>6351.00</td>\n",
       "      <td>428453.88</td>\n",
       "      <td>0</td>\n",
       "      <td>0</td>\n",
       "      <td>1</td>\n",
       "    </tr>\n",
       "    <tr>\n",
       "      <th>4</th>\n",
       "      <td>5</td>\n",
       "      <td>1</td>\n",
       "      <td>9427.92</td>\n",
       "      <td>461562.00</td>\n",
       "      <td>0</td>\n",
       "      <td>0</td>\n",
       "      <td>1</td>\n",
       "    </tr>\n",
       "    <tr>\n",
       "      <th>...</th>\n",
       "      <td>...</td>\n",
       "      <td>...</td>\n",
       "      <td>...</td>\n",
       "      <td>...</td>\n",
       "      <td>...</td>\n",
       "      <td>...</td>\n",
       "      <td>...</td>\n",
       "    </tr>\n",
       "    <tr>\n",
       "      <th>9995</th>\n",
       "      <td>9996</td>\n",
       "      <td>1</td>\n",
       "      <td>8538.72</td>\n",
       "      <td>635908.56</td>\n",
       "      <td>0</td>\n",
       "      <td>0</td>\n",
       "      <td>1</td>\n",
       "    </tr>\n",
       "    <tr>\n",
       "      <th>9996</th>\n",
       "      <td>9997</td>\n",
       "      <td>1</td>\n",
       "      <td>9095.52</td>\n",
       "      <td>235928.64</td>\n",
       "      <td>0</td>\n",
       "      <td>0</td>\n",
       "      <td>0</td>\n",
       "    </tr>\n",
       "    <tr>\n",
       "      <th>9997</th>\n",
       "      <td>9998</td>\n",
       "      <td>1</td>\n",
       "      <td>10144.92</td>\n",
       "      <td>703633.92</td>\n",
       "      <td>0</td>\n",
       "      <td>1</td>\n",
       "      <td>1</td>\n",
       "    </tr>\n",
       "    <tr>\n",
       "      <th>9998</th>\n",
       "      <td>9999</td>\n",
       "      <td>1</td>\n",
       "      <td>18828.12</td>\n",
       "      <td>440029.32</td>\n",
       "      <td>0</td>\n",
       "      <td>1</td>\n",
       "      <td>1</td>\n",
       "    </tr>\n",
       "    <tr>\n",
       "      <th>9999</th>\n",
       "      <td>10000</td>\n",
       "      <td>0</td>\n",
       "      <td>2411.04</td>\n",
       "      <td>202355.40</td>\n",
       "      <td>0</td>\n",
       "      <td>0</td>\n",
       "      <td>0</td>\n",
       "    </tr>\n",
       "  </tbody>\n",
       "</table>\n",
       "<p>10000 rows × 7 columns</p>\n",
       "</div>"
      ],
      "text/plain": [
       "      Index  Employed  Bank Balance  Annual Salary  Defaulted?  \\\n",
       "0         1         1       8754.36      532339.56           0   \n",
       "1         2         0       9806.16      145273.56           0   \n",
       "2         3         1      12882.60      381205.68           0   \n",
       "3         4         1       6351.00      428453.88           0   \n",
       "4         5         1       9427.92      461562.00           0   \n",
       "...     ...       ...           ...            ...         ...   \n",
       "9995   9996         1       8538.72      635908.56           0   \n",
       "9996   9997         1       9095.52      235928.64           0   \n",
       "9997   9998         1      10144.92      703633.92           0   \n",
       "9998   9999         1      18828.12      440029.32           0   \n",
       "9999  10000         0       2411.04      202355.40           0   \n",
       "\n",
       "      High_or_Low_Balance  high_income  \n",
       "0                       0            1  \n",
       "1                       0            0  \n",
       "2                       1            0  \n",
       "3                       0            1  \n",
       "4                       0            1  \n",
       "...                   ...          ...  \n",
       "9995                    0            1  \n",
       "9996                    0            0  \n",
       "9997                    1            1  \n",
       "9998                    1            1  \n",
       "9999                    0            0  \n",
       "\n",
       "[10000 rows x 7 columns]"
      ]
     },
     "execution_count": 58,
     "metadata": {},
     "output_type": "execute_result"
    }
   ],
   "source": [
    "data"
   ]
  },
  {
   "cell_type": "code",
   "execution_count": 59,
   "id": "74d8e353",
   "metadata": {},
   "outputs": [],
   "source": [
    "# According to the features above, a client employed (1), bank balece of 6000, annual salary 500000, which is high bank balance(1)\n",
    "# would be considered a very low risk for default. "
   ]
  },
  {
   "cell_type": "code",
   "execution_count": null,
   "id": "e877232e",
   "metadata": {},
   "outputs": [],
   "source": []
  }
 ],
 "metadata": {
  "kernelspec": {
   "display_name": "Python 3 (ipykernel)",
   "language": "python",
   "name": "python3"
  },
  "language_info": {
   "codemirror_mode": {
    "name": "ipython",
    "version": 3
   },
   "file_extension": ".py",
   "mimetype": "text/x-python",
   "name": "python",
   "nbconvert_exporter": "python",
   "pygments_lexer": "ipython3",
   "version": "3.9.12"
  }
 },
 "nbformat": 4,
 "nbformat_minor": 5
}
